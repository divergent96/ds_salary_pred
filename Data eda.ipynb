{
 "cells": [
  {
   "cell_type": "code",
   "execution_count": 1,
   "metadata": {},
   "outputs": [],
   "source": [
    "import pandas as pd\n",
    "import numpy as np\n",
    "\n",
    "import matplotlib.pyplot as plt\n",
    "import seaborn as sns"
   ]
  },
  {
   "cell_type": "code",
   "execution_count": 2,
   "metadata": {},
   "outputs": [],
   "source": [
    "df = pd.read_pickle(\"./cleaned_jobs.pk1\")"
   ]
  },
  {
   "cell_type": "markdown",
   "metadata": {},
   "source": [
    "Exploring data and updating the dataframe by cleaning and arsing new features\n",
    "\n",
    "1. Simplify job titles\n",
    "2. Add seniority based on title\n",
    "3. Correct state variable\n",
    "4. Add length of Job description. Might indicate patterns\n",
    "5. Parse and count competitors for the data \n",
    "6. Conver hourly wage to annual wage to make it consistent"
   ]
  },
  {
   "cell_type": "markdown",
   "metadata": {},
   "source": [
    "Simplify Job Titles and add seniroity"
   ]
  },
  {
   "cell_type": "code",
   "execution_count": 3,
   "metadata": {},
   "outputs": [],
   "source": [
    "# Define function to parse and simplify job titles\n",
    "\n",
    "def simple_jobs(title):\n",
    "    job_array = ['data scientist','machine learning','data engineer','manager','director']\n",
    "    \n",
    "    simplified_job = 'na'\n",
    "\n",
    "    for job in job_array:\n",
    "        if job in title.lower():\n",
    "            simplified_job =  job\n",
    "    \n",
    "    return simplified_job\n",
    "\n",
    "def seniority(title):\n",
    "    tmp = title.lower()\n",
    "    if 'sr' in tmp or 'senior' in tmp or 'lead' in tmp or 'principal' in tmp:\n",
    "        return 'senior'\n",
    "    elif 'jr' in tmp or 'junior' in tmp:\n",
    "        return 'junior'\n",
    "    else:\n",
    "        return 'na'\n",
    "        "
   ]
  },
  {
   "cell_type": "code",
   "execution_count": 4,
   "metadata": {},
   "outputs": [],
   "source": [
    "df['job_simplified'] = df['Job Title'].apply(simple_jobs)\n",
    "df['seniority'] = df['Job Title'].apply(seniority)"
   ]
  },
  {
   "cell_type": "code",
   "execution_count": 5,
   "metadata": {},
   "outputs": [
    {
     "data": {
      "text/plain": [
       "na        519\n",
       "senior    220\n",
       "junior      3\n",
       "Name: seniority, dtype: int64"
      ]
     },
     "execution_count": 5,
     "metadata": {},
     "output_type": "execute_result"
    }
   ],
   "source": [
    "df['job_simplified'].value_counts()\n",
    "df['seniority'].value_counts()"
   ]
  },
  {
   "cell_type": "markdown",
   "metadata": {},
   "source": [
    "Update the job state variable"
   ]
  },
  {
   "cell_type": "code",
   "execution_count": 6,
   "metadata": {},
   "outputs": [
    {
     "data": {
      "text/plain": [
       " CA             151\n",
       " MA             103\n",
       " NY              72\n",
       " VA              41\n",
       " IL              40\n",
       " MD              35\n",
       " PA              33\n",
       " TX              28\n",
       " NC              21\n",
       " WA              21\n",
       " NJ              17\n",
       " FL              16\n",
       " OH              14\n",
       " TN              13\n",
       " CO              11\n",
       " DC              11\n",
       " WI              10\n",
       " UT              10\n",
       " IN              10\n",
       " MO               9\n",
       " AZ               9\n",
       " AL               8\n",
       " KY               6\n",
       " MI               6\n",
       " GA               6\n",
       " DE               6\n",
       " CT               5\n",
       " IA               5\n",
       " OR               4\n",
       " NE               4\n",
       " LA               4\n",
       " NM               3\n",
       " KS               3\n",
       " ID               2\n",
       " MN               2\n",
       " Los Angeles      1\n",
       " RI               1\n",
       " SC               1\n",
       "Name: job_state, dtype: int64"
      ]
     },
     "execution_count": 6,
     "metadata": {},
     "output_type": "execute_result"
    }
   ],
   "source": [
    "df['Headquarters'].value_counts()\n",
    "df['job_state'].value_counts()"
   ]
  },
  {
   "cell_type": "code",
   "execution_count": 7,
   "metadata": {},
   "outputs": [
    {
     "data": {
      "text/plain": [
       "CA    152\n",
       "MA    103\n",
       "NY     72\n",
       "VA     41\n",
       "IL     40\n",
       "MD     35\n",
       "PA     33\n",
       "TX     28\n",
       "WA     21\n",
       "NC     21\n",
       "NJ     17\n",
       "FL     16\n",
       "OH     14\n",
       "TN     13\n",
       "DC     11\n",
       "CO     11\n",
       "WI     10\n",
       "UT     10\n",
       "IN     10\n",
       "AZ      9\n",
       "MO      9\n",
       "AL      8\n",
       "DE      6\n",
       "MI      6\n",
       "KY      6\n",
       "GA      6\n",
       "IA      5\n",
       "CT      5\n",
       "NE      4\n",
       "OR      4\n",
       "LA      4\n",
       "KS      3\n",
       "NM      3\n",
       "MN      2\n",
       "ID      2\n",
       "SC      1\n",
       "RI      1\n",
       "Name: job_state, dtype: int64"
      ]
     },
     "execution_count": 7,
     "metadata": {},
     "output_type": "execute_result"
    }
   ],
   "source": [
    "# check state variable to see counts\n",
    "\n",
    "#df['job_state'].value_counts()\n",
    "\n",
    "# Correct Los angeles to LA\n",
    "\n",
    "df['job_state'] = df['job_state'].apply(lambda x: x.strip() if x.strip().lower() != 'los angeles' else 'CA')\n",
    "\n",
    "df['job_state'].value_counts()"
   ]
  },
  {
   "cell_type": "markdown",
   "metadata": {},
   "source": [
    "Add length of job descriptions\n"
   ]
  },
  {
   "cell_type": "code",
   "execution_count": 8,
   "metadata": {},
   "outputs": [
    {
     "data": {
      "text/plain": [
       "0      2536\n",
       "1      4783\n",
       "2      3461\n",
       "3      3883\n",
       "4      2728\n",
       "       ... \n",
       "950    6162\n",
       "951    6130\n",
       "952    3078\n",
       "953    1642\n",
       "955    3673\n",
       "Name: job_desc_len, Length: 742, dtype: int64"
      ]
     },
     "execution_count": 8,
     "metadata": {},
     "output_type": "execute_result"
    }
   ],
   "source": [
    "df['job_desc_len'] = df['Job Description'].apply(lambda x: len(x))\n",
    "\n",
    "df['job_desc_len']"
   ]
  },
  {
   "cell_type": "markdown",
   "metadata": {},
   "source": [
    "Parse and count competitors"
   ]
  },
  {
   "cell_type": "code",
   "execution_count": 9,
   "metadata": {},
   "outputs": [
    {
     "data": {
      "text/plain": [
       "0                                                     -1\n",
       "1                                                     -1\n",
       "2                                                     -1\n",
       "3      Oak Ridge National Laboratory, National Renewa...\n",
       "4                   Commerce Signals, Cardlytics, Yodlee\n",
       "                             ...                        \n",
       "950                           Pfizer, AstraZeneca, Merck\n",
       "951                      See Tickets, TicketWeb, Vendini\n",
       "952                                                   -1\n",
       "953                                                   -1\n",
       "955                                                   -1\n",
       "Name: Competitors, Length: 742, dtype: object"
      ]
     },
     "execution_count": 9,
     "metadata": {},
     "output_type": "execute_result"
    }
   ],
   "source": [
    "# Check competitor column\n",
    "\n",
    "df['Competitors']"
   ]
  },
  {
   "cell_type": "code",
   "execution_count": 10,
   "metadata": {},
   "outputs": [
    {
     "data": {
      "text/plain": [
       "0      0\n",
       "1      0\n",
       "2      0\n",
       "3      3\n",
       "4      3\n",
       "      ..\n",
       "950    3\n",
       "951    3\n",
       "952    0\n",
       "953    0\n",
       "955    0\n",
       "Name: num_competitors, Length: 742, dtype: int64"
      ]
     },
     "execution_count": 10,
     "metadata": {},
     "output_type": "execute_result"
    }
   ],
   "source": [
    "# Split by comma and count # of entries\n",
    "# leave as -1 if not available\n",
    "\n",
    "df['num_competitors'] = df['Competitors'].apply(lambda x: len(x.split(',')) if x != '-1' else 0)\n",
    "\n",
    "df['num_competitors']"
   ]
  },
  {
   "cell_type": "markdown",
   "metadata": {},
   "source": [
    "Convert hourly wages to annual\n",
    "\n",
    "Assumption will be 40hrs/week and 52 weeks per year. SInce all salaries are in thousands, we divide by 1k to make it consistent\n",
    "\n"
   ]
  },
  {
   "cell_type": "code",
   "execution_count": 11,
   "metadata": {},
   "outputs": [
    {
     "data": {
      "text/plain": [
       "0    718\n",
       "1     24\n",
       "Name: hourly flag, dtype: int64"
      ]
     },
     "execution_count": 11,
     "metadata": {},
     "output_type": "execute_result"
    }
   ],
   "source": [
    "df.columns.values\n",
    "\n",
    "df['hourly flag'].value_counts()"
   ]
  },
  {
   "cell_type": "code",
   "execution_count": 12,
   "metadata": {},
   "outputs": [
    {
     "data": {
      "text/html": [
       "<div>\n",
       "<style scoped>\n",
       "    .dataframe tbody tr th:only-of-type {\n",
       "        vertical-align: middle;\n",
       "    }\n",
       "\n",
       "    .dataframe tbody tr th {\n",
       "        vertical-align: top;\n",
       "    }\n",
       "\n",
       "    .dataframe thead th {\n",
       "        text-align: right;\n",
       "    }\n",
       "</style>\n",
       "<table border=\"1\" class=\"dataframe\">\n",
       "  <thead>\n",
       "    <tr style=\"text-align: right;\">\n",
       "      <th></th>\n",
       "      <th>min_salary</th>\n",
       "      <th>max_salary</th>\n",
       "    </tr>\n",
       "  </thead>\n",
       "  <tbody>\n",
       "  </tbody>\n",
       "</table>\n",
       "</div>"
      ],
      "text/plain": [
       "Empty DataFrame\n",
       "Columns: [min_salary, max_salary]\n",
       "Index: []"
      ]
     },
     "metadata": {},
     "output_type": "display_data"
    }
   ],
   "source": [
    "display(df.loc[df['min_salary'] < 0, ['min_salary','max_salary']])"
   ]
  },
  {
   "cell_type": "code",
   "execution_count": 13,
   "metadata": {},
   "outputs": [],
   "source": [
    "df['min_salary_updated'] = df.apply(lambda x: x['min_salary'] if x['hourly flag'] == 0 else x['min_salary']*(40*52/1000), axis = 1)\n",
    "df['max_salary_updated'] = df.apply(lambda x: x['max_salary'] if x['hourly flag'] == 0 else x['max_salary']*(40*52/1000), axis = 1)\n",
    "\n",
    "# Dropping old salary columns\n",
    "\n",
    "df['avg_salary'] = df.apply(lambda x: (x['min_salary_updated']+x['max_salary_updated'])/2, axis =1)\n",
    "\n",
    "df.drop(labels = ['min_salary','max_salary'], axis = 1, inplace = True)"
   ]
  },
  {
   "cell_type": "code",
   "execution_count": 14,
   "metadata": {},
   "outputs": [
    {
     "data": {
      "text/plain": [
       "array(['Job Title', 'Salary Estimate', 'Job Description', 'Rating',\n",
       "       'Company Name', 'Location', 'Headquarters', 'Size', 'Founded',\n",
       "       'Type of ownership', 'Industry', 'Sector', 'Revenue',\n",
       "       'Competitors', 'hourly flag', 'employer provided flag',\n",
       "       'company_txt', 'job_state', 'hq_state', 'job_in_HQ_flag',\n",
       "       'age_company', 'sas_flag', 'spark_flag', 'python_flag',\n",
       "       'matlab_flag', 'tensorflow_flag', 'tableau_flag', 'aws_flag',\n",
       "       'hadoop_flag', 'r_flag', 'job_simplified', 'seniority',\n",
       "       'job_desc_len', 'num_competitors', 'min_salary_updated',\n",
       "       'max_salary_updated', 'avg_salary'], dtype=object)"
      ]
     },
     "execution_count": 14,
     "metadata": {},
     "output_type": "execute_result"
    }
   ],
   "source": [
    "df.columns.values"
   ]
  },
  {
   "cell_type": "code",
   "execution_count": 15,
   "metadata": {},
   "outputs": [],
   "source": [
    "df.to_pickle('.\\cleaned_jobs_2.pk1')"
   ]
  },
  {
   "cell_type": "markdown",
   "metadata": {},
   "source": [
    "# Understanding final data frame and creating visualizations"
   ]
  },
  {
   "cell_type": "code",
   "execution_count": 16,
   "metadata": {},
   "outputs": [
    {
     "data": {
      "text/html": [
       "<div>\n",
       "<style scoped>\n",
       "    .dataframe tbody tr th:only-of-type {\n",
       "        vertical-align: middle;\n",
       "    }\n",
       "\n",
       "    .dataframe tbody tr th {\n",
       "        vertical-align: top;\n",
       "    }\n",
       "\n",
       "    .dataframe thead th {\n",
       "        text-align: right;\n",
       "    }\n",
       "</style>\n",
       "<table border=\"1\" class=\"dataframe\">\n",
       "  <thead>\n",
       "    <tr style=\"text-align: right;\">\n",
       "      <th></th>\n",
       "      <th>Rating</th>\n",
       "      <th>Founded</th>\n",
       "      <th>hourly flag</th>\n",
       "      <th>employer provided flag</th>\n",
       "      <th>age_company</th>\n",
       "      <th>sas_flag</th>\n",
       "      <th>spark_flag</th>\n",
       "      <th>python_flag</th>\n",
       "      <th>matlab_flag</th>\n",
       "      <th>tensorflow_flag</th>\n",
       "      <th>tableau_flag</th>\n",
       "      <th>aws_flag</th>\n",
       "      <th>hadoop_flag</th>\n",
       "      <th>r_flag</th>\n",
       "      <th>job_desc_len</th>\n",
       "      <th>num_competitors</th>\n",
       "      <th>min_salary_updated</th>\n",
       "      <th>max_salary_updated</th>\n",
       "      <th>avg_salary</th>\n",
       "    </tr>\n",
       "  </thead>\n",
       "  <tbody>\n",
       "    <tr>\n",
       "      <th>count</th>\n",
       "      <td>742.000000</td>\n",
       "      <td>742.000000</td>\n",
       "      <td>742.000000</td>\n",
       "      <td>742.000000</td>\n",
       "      <td>742.000000</td>\n",
       "      <td>742.000000</td>\n",
       "      <td>742.000000</td>\n",
       "      <td>742.000000</td>\n",
       "      <td>742.000000</td>\n",
       "      <td>742.000000</td>\n",
       "      <td>742.000000</td>\n",
       "      <td>742.000000</td>\n",
       "      <td>742.000000</td>\n",
       "      <td>742.000000</td>\n",
       "      <td>742.000000</td>\n",
       "      <td>742.000000</td>\n",
       "      <td>742.000000</td>\n",
       "      <td>742.000000</td>\n",
       "      <td>742.000000</td>\n",
       "    </tr>\n",
       "    <tr>\n",
       "      <th>mean</th>\n",
       "      <td>3.618868</td>\n",
       "      <td>1837.154987</td>\n",
       "      <td>0.032345</td>\n",
       "      <td>0.039084</td>\n",
       "      <td>47.524259</td>\n",
       "      <td>0.117251</td>\n",
       "      <td>0.225067</td>\n",
       "      <td>0.528302</td>\n",
       "      <td>0.074124</td>\n",
       "      <td>0.095687</td>\n",
       "      <td>0.199461</td>\n",
       "      <td>0.237197</td>\n",
       "      <td>0.167116</td>\n",
       "      <td>0.002695</td>\n",
       "      <td>3869.545822</td>\n",
       "      <td>1.053908</td>\n",
       "      <td>74.771752</td>\n",
       "      <td>128.226900</td>\n",
       "      <td>101.499326</td>\n",
       "    </tr>\n",
       "    <tr>\n",
       "      <th>std</th>\n",
       "      <td>0.801210</td>\n",
       "      <td>497.183763</td>\n",
       "      <td>0.177034</td>\n",
       "      <td>0.193925</td>\n",
       "      <td>53.839080</td>\n",
       "      <td>0.321936</td>\n",
       "      <td>0.417908</td>\n",
       "      <td>0.499535</td>\n",
       "      <td>0.262149</td>\n",
       "      <td>0.294360</td>\n",
       "      <td>0.399865</td>\n",
       "      <td>0.425651</td>\n",
       "      <td>0.373331</td>\n",
       "      <td>0.051882</td>\n",
       "      <td>1521.495868</td>\n",
       "      <td>1.384239</td>\n",
       "      <td>30.926958</td>\n",
       "      <td>45.110814</td>\n",
       "      <td>37.463032</td>\n",
       "    </tr>\n",
       "    <tr>\n",
       "      <th>min</th>\n",
       "      <td>-1.000000</td>\n",
       "      <td>-1.000000</td>\n",
       "      <td>0.000000</td>\n",
       "      <td>0.000000</td>\n",
       "      <td>-1.000000</td>\n",
       "      <td>0.000000</td>\n",
       "      <td>0.000000</td>\n",
       "      <td>0.000000</td>\n",
       "      <td>0.000000</td>\n",
       "      <td>0.000000</td>\n",
       "      <td>0.000000</td>\n",
       "      <td>0.000000</td>\n",
       "      <td>0.000000</td>\n",
       "      <td>0.000000</td>\n",
       "      <td>407.000000</td>\n",
       "      <td>0.000000</td>\n",
       "      <td>15.000000</td>\n",
       "      <td>16.000000</td>\n",
       "      <td>15.500000</td>\n",
       "    </tr>\n",
       "    <tr>\n",
       "      <th>25%</th>\n",
       "      <td>3.300000</td>\n",
       "      <td>1939.000000</td>\n",
       "      <td>0.000000</td>\n",
       "      <td>0.000000</td>\n",
       "      <td>12.000000</td>\n",
       "      <td>0.000000</td>\n",
       "      <td>0.000000</td>\n",
       "      <td>0.000000</td>\n",
       "      <td>0.000000</td>\n",
       "      <td>0.000000</td>\n",
       "      <td>0.000000</td>\n",
       "      <td>0.000000</td>\n",
       "      <td>0.000000</td>\n",
       "      <td>0.000000</td>\n",
       "      <td>2801.000000</td>\n",
       "      <td>0.000000</td>\n",
       "      <td>52.000000</td>\n",
       "      <td>96.000000</td>\n",
       "      <td>73.500000</td>\n",
       "    </tr>\n",
       "    <tr>\n",
       "      <th>50%</th>\n",
       "      <td>3.700000</td>\n",
       "      <td>1988.000000</td>\n",
       "      <td>0.000000</td>\n",
       "      <td>0.000000</td>\n",
       "      <td>25.000000</td>\n",
       "      <td>0.000000</td>\n",
       "      <td>0.000000</td>\n",
       "      <td>1.000000</td>\n",
       "      <td>0.000000</td>\n",
       "      <td>0.000000</td>\n",
       "      <td>0.000000</td>\n",
       "      <td>0.000000</td>\n",
       "      <td>0.000000</td>\n",
       "      <td>0.000000</td>\n",
       "      <td>3731.000000</td>\n",
       "      <td>0.000000</td>\n",
       "      <td>69.500000</td>\n",
       "      <td>124.000000</td>\n",
       "      <td>97.500000</td>\n",
       "    </tr>\n",
       "    <tr>\n",
       "      <th>75%</th>\n",
       "      <td>4.000000</td>\n",
       "      <td>2007.000000</td>\n",
       "      <td>0.000000</td>\n",
       "      <td>0.000000</td>\n",
       "      <td>60.000000</td>\n",
       "      <td>0.000000</td>\n",
       "      <td>0.000000</td>\n",
       "      <td>1.000000</td>\n",
       "      <td>0.000000</td>\n",
       "      <td>0.000000</td>\n",
       "      <td>0.000000</td>\n",
       "      <td>0.000000</td>\n",
       "      <td>0.000000</td>\n",
       "      <td>0.000000</td>\n",
       "      <td>4740.000000</td>\n",
       "      <td>3.000000</td>\n",
       "      <td>91.000000</td>\n",
       "      <td>155.000000</td>\n",
       "      <td>122.500000</td>\n",
       "    </tr>\n",
       "    <tr>\n",
       "      <th>max</th>\n",
       "      <td>5.000000</td>\n",
       "      <td>2019.000000</td>\n",
       "      <td>1.000000</td>\n",
       "      <td>1.000000</td>\n",
       "      <td>277.000000</td>\n",
       "      <td>1.000000</td>\n",
       "      <td>1.000000</td>\n",
       "      <td>1.000000</td>\n",
       "      <td>1.000000</td>\n",
       "      <td>1.000000</td>\n",
       "      <td>1.000000</td>\n",
       "      <td>1.000000</td>\n",
       "      <td>1.000000</td>\n",
       "      <td>1.000000</td>\n",
       "      <td>10051.000000</td>\n",
       "      <td>4.000000</td>\n",
       "      <td>202.000000</td>\n",
       "      <td>306.000000</td>\n",
       "      <td>254.000000</td>\n",
       "    </tr>\n",
       "  </tbody>\n",
       "</table>\n",
       "</div>"
      ],
      "text/plain": [
       "           Rating      Founded  hourly flag  employer provided flag  \\\n",
       "count  742.000000   742.000000   742.000000              742.000000   \n",
       "mean     3.618868  1837.154987     0.032345                0.039084   \n",
       "std      0.801210   497.183763     0.177034                0.193925   \n",
       "min     -1.000000    -1.000000     0.000000                0.000000   \n",
       "25%      3.300000  1939.000000     0.000000                0.000000   \n",
       "50%      3.700000  1988.000000     0.000000                0.000000   \n",
       "75%      4.000000  2007.000000     0.000000                0.000000   \n",
       "max      5.000000  2019.000000     1.000000                1.000000   \n",
       "\n",
       "       age_company    sas_flag  spark_flag  python_flag  matlab_flag  \\\n",
       "count   742.000000  742.000000  742.000000   742.000000   742.000000   \n",
       "mean     47.524259    0.117251    0.225067     0.528302     0.074124   \n",
       "std      53.839080    0.321936    0.417908     0.499535     0.262149   \n",
       "min      -1.000000    0.000000    0.000000     0.000000     0.000000   \n",
       "25%      12.000000    0.000000    0.000000     0.000000     0.000000   \n",
       "50%      25.000000    0.000000    0.000000     1.000000     0.000000   \n",
       "75%      60.000000    0.000000    0.000000     1.000000     0.000000   \n",
       "max     277.000000    1.000000    1.000000     1.000000     1.000000   \n",
       "\n",
       "       tensorflow_flag  tableau_flag    aws_flag  hadoop_flag      r_flag  \\\n",
       "count       742.000000    742.000000  742.000000   742.000000  742.000000   \n",
       "mean          0.095687      0.199461    0.237197     0.167116    0.002695   \n",
       "std           0.294360      0.399865    0.425651     0.373331    0.051882   \n",
       "min           0.000000      0.000000    0.000000     0.000000    0.000000   \n",
       "25%           0.000000      0.000000    0.000000     0.000000    0.000000   \n",
       "50%           0.000000      0.000000    0.000000     0.000000    0.000000   \n",
       "75%           0.000000      0.000000    0.000000     0.000000    0.000000   \n",
       "max           1.000000      1.000000    1.000000     1.000000    1.000000   \n",
       "\n",
       "       job_desc_len  num_competitors  min_salary_updated  max_salary_updated  \\\n",
       "count    742.000000       742.000000          742.000000          742.000000   \n",
       "mean    3869.545822         1.053908           74.771752          128.226900   \n",
       "std     1521.495868         1.384239           30.926958           45.110814   \n",
       "min      407.000000         0.000000           15.000000           16.000000   \n",
       "25%     2801.000000         0.000000           52.000000           96.000000   \n",
       "50%     3731.000000         0.000000           69.500000          124.000000   \n",
       "75%     4740.000000         3.000000           91.000000          155.000000   \n",
       "max    10051.000000         4.000000          202.000000          306.000000   \n",
       "\n",
       "       avg_salary  \n",
       "count  742.000000  \n",
       "mean   101.499326  \n",
       "std     37.463032  \n",
       "min     15.500000  \n",
       "25%     73.500000  \n",
       "50%     97.500000  \n",
       "75%    122.500000  \n",
       "max    254.000000  "
      ]
     },
     "metadata": {},
     "output_type": "display_data"
    }
   ],
   "source": [
    "display(df.describe())"
   ]
  },
  {
   "cell_type": "code",
   "execution_count": 17,
   "metadata": {},
   "outputs": [
    {
     "data": {
      "text/plain": [
       "<AxesSubplot:>"
      ]
     },
     "execution_count": 17,
     "metadata": {},
     "output_type": "execute_result"
    },
    {
     "data": {
      "image/png": "[encoded data removed]",
      "text/plain": [
       "<Figure size 432x288 with 1 Axes>"
      ]
     },
     "metadata": {
      "needs_background": "light"
     },
     "output_type": "display_data"
    }
   ],
   "source": [
    "# Understand ratings of company\n",
    "\n",
    "df['Rating'].hist()\n",
    "\n",
    "# Its quite close to Normal distribution"
   ]
  },
  {
   "cell_type": "code",
   "execution_count": 18,
   "metadata": {},
   "outputs": [
    {
     "data": {
      "text/plain": [
       "<AxesSubplot:>"
      ]
     },
     "execution_count": 18,
     "metadata": {},
     "output_type": "execute_result"
    },
    {
     "data": {
      "image/png": "[encoded data removed]",
      "text/plain": [
       "<Figure size 432x288 with 1 Axes>"
      ]
     },
     "metadata": {
      "needs_background": "light"
     },
     "output_type": "display_data"
    }
   ],
   "source": [
    "# Average salary histogram\n",
    "df['avg_salary'].hist()\n",
    "\n",
    "# It is right skewed and not normal distribtuion. We may need to make it normal"
   ]
  },
  {
   "cell_type": "code",
   "execution_count": 19,
   "metadata": {},
   "outputs": [
    {
     "data": {
      "text/plain": [
       "<AxesSubplot:>"
      ]
     },
     "execution_count": 19,
     "metadata": {},
     "output_type": "execute_result"
    },
    {
     "data": {
      "image/png": "[encoded data removed]",
      "text/plain": [
       "<Figure size 432x288 with 1 Axes>"
      ]
     },
     "metadata": {
      "needs_background": "light"
     },
     "output_type": "display_data"
    }
   ],
   "source": [
    "# Company age\n",
    "\n",
    "df['age_company'].hist()\n",
    "\n",
    "# As expected, most of the companies are new companies. Few old ones seem to be adopting DS positions.\n",
    "# We might be able to check if older companies are willing to offer more for DS roles"
   ]
  },
  {
   "cell_type": "code",
   "execution_count": 20,
   "metadata": {},
   "outputs": [
    {
     "data": {
      "text/plain": [
       "<AxesSubplot:>"
      ]
     },
     "execution_count": 20,
     "metadata": {},
     "output_type": "execute_result"
    },
    {
     "data": {
      "image/png": "[encoded data removed]",
      "text/plain": [
       "<Figure size 432x288 with 1 Axes>"
      ]
     },
     "metadata": {
      "needs_background": "light"
     },
     "output_type": "display_data"
    }
   ],
   "source": [
    "# Length of Job description\n",
    "\n",
    "df['job_desc_len'].hist()"
   ]
  },
  {
   "cell_type": "code",
   "execution_count": 21,
   "metadata": {},
   "outputs": [
    {
     "data": {
      "text/plain": [
       "array(['Job Title', 'Salary Estimate', 'Job Description', 'Rating',\n",
       "       'Company Name', 'Location', 'Headquarters', 'Size', 'Founded',\n",
       "       'Type of ownership', 'Industry', 'Sector', 'Revenue',\n",
       "       'Competitors', 'hourly flag', 'employer provided flag',\n",
       "       'company_txt', 'job_state', 'hq_state', 'job_in_HQ_flag',\n",
       "       'age_company', 'sas_flag', 'spark_flag', 'python_flag',\n",
       "       'matlab_flag', 'tensorflow_flag', 'tableau_flag', 'aws_flag',\n",
       "       'hadoop_flag', 'r_flag', 'job_simplified', 'seniority',\n",
       "       'job_desc_len', 'num_competitors', 'min_salary_updated',\n",
       "       'max_salary_updated', 'avg_salary'], dtype=object)"
      ]
     },
     "execution_count": 21,
     "metadata": {},
     "output_type": "execute_result"
    }
   ],
   "source": [
    "df.columns.values"
   ]
  },
  {
   "cell_type": "code",
   "execution_count": 22,
   "metadata": {},
   "outputs": [
    {
     "data": {
      "text/plain": [
       "<AxesSubplot:>"
      ]
     },
     "execution_count": 22,
     "metadata": {},
     "output_type": "execute_result"
    },
    {
     "data": {
      "image/png": "[encoded data removed]",
      "text/plain": [
       "<Figure size 432x288 with 1 Axes>"
      ]
     },
     "metadata": {
      "needs_background": "light"
     },
     "output_type": "display_data"
    }
   ],
   "source": [
    "# Box plots for ratings and salary\n",
    "\n",
    "df.boxplot(column = ['Rating'])"
   ]
  },
  {
   "cell_type": "code",
   "execution_count": 23,
   "metadata": {},
   "outputs": [
    {
     "data": {
      "text/html": [
       "<div>\n",
       "<style scoped>\n",
       "    .dataframe tbody tr th:only-of-type {\n",
       "        vertical-align: middle;\n",
       "    }\n",
       "\n",
       "    .dataframe tbody tr th {\n",
       "        vertical-align: top;\n",
       "    }\n",
       "\n",
       "    .dataframe thead th {\n",
       "        text-align: right;\n",
       "    }\n",
       "</style>\n",
       "<table border=\"1\" class=\"dataframe\">\n",
       "  <thead>\n",
       "    <tr style=\"text-align: right;\">\n",
       "      <th></th>\n",
       "      <th>age_company</th>\n",
       "      <th>avg_salary</th>\n",
       "      <th>Rating</th>\n",
       "      <th>job_desc_len</th>\n",
       "    </tr>\n",
       "  </thead>\n",
       "  <tbody>\n",
       "    <tr>\n",
       "      <th>age_company</th>\n",
       "      <td>1.000000</td>\n",
       "      <td>0.022120</td>\n",
       "      <td>0.023162</td>\n",
       "      <td>0.164188</td>\n",
       "    </tr>\n",
       "    <tr>\n",
       "      <th>avg_salary</th>\n",
       "      <td>0.022120</td>\n",
       "      <td>1.000000</td>\n",
       "      <td>0.012429</td>\n",
       "      <td>0.069742</td>\n",
       "    </tr>\n",
       "    <tr>\n",
       "      <th>Rating</th>\n",
       "      <td>0.023162</td>\n",
       "      <td>0.012429</td>\n",
       "      <td>1.000000</td>\n",
       "      <td>-0.012281</td>\n",
       "    </tr>\n",
       "    <tr>\n",
       "      <th>job_desc_len</th>\n",
       "      <td>0.164188</td>\n",
       "      <td>0.069742</td>\n",
       "      <td>-0.012281</td>\n",
       "      <td>1.000000</td>\n",
       "    </tr>\n",
       "  </tbody>\n",
       "</table>\n",
       "</div>"
      ],
      "text/plain": [
       "              age_company  avg_salary    Rating  job_desc_len\n",
       "age_company      1.000000    0.022120  0.023162      0.164188\n",
       "avg_salary       0.022120    1.000000  0.012429      0.069742\n",
       "Rating           0.023162    0.012429  1.000000     -0.012281\n",
       "job_desc_len     0.164188    0.069742 -0.012281      1.000000"
      ]
     },
     "execution_count": 23,
     "metadata": {},
     "output_type": "execute_result"
    }
   ],
   "source": [
    "# Understand correlation b/w variables\n",
    "\n",
    "df[['age_company','avg_salary','Rating','job_desc_len']].corr()"
   ]
  },
  {
   "cell_type": "code",
   "execution_count": 24,
   "metadata": {},
   "outputs": [
    {
     "data": {
      "text/plain": [
       "<AxesSubplot:>"
      ]
     },
     "execution_count": 24,
     "metadata": {},
     "output_type": "execute_result"
    },
    {
     "data": {
      "image/png": "[encoded data removed]",
      "text/plain": [
       "<Figure size 432x288 with 2 Axes>"
      ]
     },
     "metadata": {
      "needs_background": "light"
     },
     "output_type": "display_data"
    }
   ],
   "source": [
    "# Put correlation into a plot\n",
    "\n",
    "#Make a consitent colormap as default can be confusiing\n",
    "\n",
    "cmap = sns.diverging_palette(220,10,as_cmap = True)\n",
    "\n",
    "sns.heatmap(df[['age_company','avg_salary','Rating','job_desc_len']].corr(),vmax = 0.2, center = 0, cmap = cmap)\n",
    "\n",
    "# Older companies seem to put up longer and detailed descriptions\n",
    "# There is slight correlation b/w salary and descrption with salary and age with rating"
   ]
  },
  {
   "cell_type": "code",
   "execution_count": 25,
   "metadata": {},
   "outputs": [
    {
     "name": "stdout",
     "output_type": "stream",
     "text": [
      "Bar plot for Industry: Total unique: n=60\n"
     ]
    },
    {
     "data": {
      "image/png": "[encoded data removed]",
      "text/plain": [
       "<Figure size 432x288 with 1 Axes>"
      ]
     },
     "metadata": {
      "needs_background": "light"
     },
     "output_type": "display_data"
    },
    {
     "name": "stdout",
     "output_type": "stream",
     "text": [
      "Bar plot for Sector: Total unique: n=25\n"
     ]
    },
    {
     "data": {
      "image/png": "[encoded data removed]",
      "text/plain": [
       "<Figure size 432x288 with 1 Axes>"
      ]
     },
     "metadata": {
      "needs_background": "light"
     },
     "output_type": "display_data"
    },
    {
     "name": "stdout",
     "output_type": "stream",
     "text": [
      "Bar plot for Location: Total unique: n=200\n"
     ]
    },
    {
     "data": {
      "image/png": "[encoded data removed]",
      "text/plain": [
       "<Figure size 432x288 with 1 Axes>"
      ]
     },
     "metadata": {
      "needs_background": "light"
     },
     "output_type": "display_data"
    },
    {
     "name": "stdout",
     "output_type": "stream",
     "text": [
      "Bar plot for Headquarters: Total unique: n=198\n"
     ]
    },
    {
     "data": {
      "image/png": "[encoded data removed]",
      "text/plain": [
       "<Figure size 432x288 with 1 Axes>"
      ]
     },
     "metadata": {
      "needs_background": "light"
     },
     "output_type": "display_data"
    },
    {
     "name": "stdout",
     "output_type": "stream",
     "text": [
      "Bar plot for Revenue: Total unique: n=14\n"
     ]
    },
    {
     "data": {
      "image/png": "[encoded data removed]",
      "text/plain": [
       "<Figure size 432x288 with 1 Axes>"
      ]
     },
     "metadata": {
      "needs_background": "light"
     },
     "output_type": "display_data"
    },
    {
     "name": "stdout",
     "output_type": "stream",
     "text": [
      "Bar plot for job_simplified: Total unique: n=6\n"
     ]
    },
    {
     "data": {
      "image/png": "[encoded data removed]",
      "text/plain": [
       "<Figure size 432x288 with 1 Axes>"
      ]
     },
     "metadata": {
      "needs_background": "light"
     },
     "output_type": "display_data"
    },
    {
     "name": "stdout",
     "output_type": "stream",
     "text": [
      "Bar plot for seniority: Total unique: n=3\n"
     ]
    },
    {
     "data": {
      "image/png": "[encoded data removed]",
      "text/plain": [
       "<Figure size 432x288 with 1 Axes>"
      ]
     },
     "metadata": {
      "needs_background": "light"
     },
     "output_type": "display_data"
    },
    {
     "name": "stdout",
     "output_type": "stream",
     "text": [
      "Bar plot for num_competitors: Total unique: n=5\n"
     ]
    },
    {
     "data": {
      "image/png": "[encoded data removed]",
      "text/plain": [
       "<Figure size 432x288 with 1 Axes>"
      ]
     },
     "metadata": {
      "needs_background": "light"
     },
     "output_type": "display_data"
    },
    {
     "name": "stdout",
     "output_type": "stream",
     "text": [
      "Bar plot for job_state: Total unique: n=37\n"
     ]
    },
    {
     "data": {
      "image/png": "[encoded data removed]",
      "text/plain": [
       "<Figure size 432x288 with 1 Axes>"
      ]
     },
     "metadata": {
      "needs_background": "light"
     },
     "output_type": "display_data"
    },
    {
     "name": "stdout",
     "output_type": "stream",
     "text": [
      "Bar plot for hq_state: Total unique: n=47\n"
     ]
    },
    {
     "data": {
      "image/png": "[encoded data removed]",
      "text/plain": [
       "<Figure size 432x288 with 1 Axes>"
      ]
     },
     "metadata": {
      "needs_background": "light"
     },
     "output_type": "display_data"
    },
    {
     "name": "stdout",
     "output_type": "stream",
     "text": [
      "Bar plot for job_in_HQ_flag: Total unique: n=2\n"
     ]
    },
    {
     "data": {
      "image/png": "[encoded data removed]",
      "text/plain": [
       "<Figure size 432x288 with 1 Axes>"
      ]
     },
     "metadata": {
      "needs_background": "light"
     },
     "output_type": "display_data"
    },
    {
     "name": "stdout",
     "output_type": "stream",
     "text": [
      "Bar plot for sas_flag: Total unique: n=2\n"
     ]
    },
    {
     "data": {
      "image/png": "[encoded data removed]",
      "text/plain": [
       "<Figure size 432x288 with 1 Axes>"
      ]
     },
     "metadata": {
      "needs_background": "light"
     },
     "output_type": "display_data"
    },
    {
     "name": "stdout",
     "output_type": "stream",
     "text": [
      "Bar plot for spark_flag: Total unique: n=2\n"
     ]
    },
    {
     "data": {
      "image/png": "[encoded data removed]",
      "text/plain": [
       "<Figure size 432x288 with 1 Axes>"
      ]
     },
     "metadata": {
      "needs_background": "light"
     },
     "output_type": "display_data"
    },
    {
     "name": "stdout",
     "output_type": "stream",
     "text": [
      "Bar plot for python_flag: Total unique: n=2\n"
     ]
    },
    {
     "data": {
      "image/png": "[encoded data removed]",
      "text/plain": [
       "<Figure size 432x288 with 1 Axes>"
      ]
     },
     "metadata": {
      "needs_background": "light"
     },
     "output_type": "display_data"
    },
    {
     "name": "stdout",
     "output_type": "stream",
     "text": [
      "Bar plot for matlab_flag: Total unique: n=2\n"
     ]
    },
    {
     "data": {
      "image/png": "[encoded data removed]",
      "text/plain": [
       "<Figure size 432x288 with 1 Axes>"
      ]
     },
     "metadata": {
      "needs_background": "light"
     },
     "output_type": "display_data"
    },
    {
     "name": "stdout",
     "output_type": "stream",
     "text": [
      "Bar plot for tensorflow_flag: Total unique: n=2\n"
     ]
    },
    {
     "data": {
      "image/png": "[encoded data removed]",
      "text/plain": [
       "<Figure size 432x288 with 1 Axes>"
      ]
     },
     "metadata": {
      "needs_background": "light"
     },
     "output_type": "display_data"
    },
    {
     "name": "stdout",
     "output_type": "stream",
     "text": [
      "Bar plot for tableau_flag: Total unique: n=2\n"
     ]
    },
    {
     "data": {
      "image/png": "[encoded data removed]",
      "text/plain": [
       "<Figure size 432x288 with 1 Axes>"
      ]
     },
     "metadata": {
      "needs_background": "light"
     },
     "output_type": "display_data"
    },
    {
     "name": "stdout",
     "output_type": "stream",
     "text": [
      "Bar plot for aws_flag: Total unique: n=2\n"
     ]
    },
    {
     "data": {
      "image/png": "[encoded data removed]",
      "text/plain": [
       "<Figure size 432x288 with 1 Axes>"
      ]
     },
     "metadata": {
      "needs_background": "light"
     },
     "output_type": "display_data"
    },
    {
     "name": "stdout",
     "output_type": "stream",
     "text": [
      "Bar plot for hadoop_flag: Total unique: n=2\n"
     ]
    },
    {
     "data": {
      "image/png": "[encoded data removed]",
      "text/plain": [
       "<Figure size 432x288 with 1 Axes>"
      ]
     },
     "metadata": {
      "needs_background": "light"
     },
     "output_type": "display_data"
    },
    {
     "name": "stdout",
     "output_type": "stream",
     "text": [
      "Bar plot for r_flag: Total unique: n=2\n"
     ]
    },
    {
     "data": {
      "image/png": "[encoded data removed]",
      "text/plain": [
       "<Figure size 432x288 with 1 Axes>"
      ]
     },
     "metadata": {
      "needs_background": "light"
     },
     "output_type": "display_data"
    }
   ],
   "source": [
    "cat_cols = ['Industry', 'Sector', 'Location', 'Headquarters','Revenue','job_simplified','seniority','num_competitors','job_state', 'hq_state', 'job_in_HQ_flag', 'sas_flag', 'spark_flag', 'python_flag',\n",
    "       'matlab_flag', 'tensorflow_flag', 'tableau_flag', 'aws_flag',\n",
    "       'hadoop_flag', 'r_flag']\n",
    "\n",
    "df_cat = df.loc[:,cat_cols]\n",
    "\n",
    "for col in df_cat.columns:\n",
    "    cat_num = df_cat[col].value_counts()\n",
    "    \n",
    "    print(\"Bar plot for %s: Total unique: n=%d\" % (col, len(cat_num)))\n",
    "    \n",
    "    sns.barplot(x=cat_num.index, y=cat_num)\n",
    "    plt.xticks(rotation=90)\n",
    "    plt.show()"
   ]
  },
  {
   "cell_type": "code",
   "execution_count": 26,
   "metadata": {},
   "outputs": [
    {
     "name": "stdout",
     "output_type": "stream",
     "text": [
      "Bar plot for Industry: Total unique: n=20\n"
     ]
    },
    {
     "data": {
      "image/png": "[encoded data removed]",
      "text/plain": [
       "<Figure size 432x288 with 1 Axes>"
      ]
     },
     "metadata": {
      "needs_background": "light"
     },
     "output_type": "display_data"
    },
    {
     "name": "stdout",
     "output_type": "stream",
     "text": [
      "Bar plot for Sector: Total unique: n=20\n"
     ]
    },
    {
     "data": {
      "image/png": "[encoded data removed]",
      "text/plain": [
       "<Figure size 432x288 with 1 Axes>"
      ]
     },
     "metadata": {
      "needs_background": "light"
     },
     "output_type": "display_data"
    },
    {
     "name": "stdout",
     "output_type": "stream",
     "text": [
      "Bar plot for Location: Total unique: n=20\n"
     ]
    },
    {
     "data": {
      "image/png": "[encoded data removed]",
      "text/plain": [
       "<Figure size 432x288 with 1 Axes>"
      ]
     },
     "metadata": {
      "needs_background": "light"
     },
     "output_type": "display_data"
    },
    {
     "name": "stdout",
     "output_type": "stream",
     "text": [
      "Bar plot for Headquarters: Total unique: n=20\n"
     ]
    },
    {
     "data": {
      "image/png": "[encoded data removed]",
      "text/plain": [
       "<Figure size 432x288 with 1 Axes>"
      ]
     },
     "metadata": {
      "needs_background": "light"
     },
     "output_type": "display_data"
    },
    {
     "name": "stdout",
     "output_type": "stream",
     "text": [
      "Bar plot for Revenue: Total unique: n=14\n"
     ]
    },
    {
     "data": {
      "image/png": "[encoded data removed]",
      "text/plain": [
       "<Figure size 432x288 with 1 Axes>"
      ]
     },
     "metadata": {
      "needs_background": "light"
     },
     "output_type": "display_data"
    },
    {
     "name": "stdout",
     "output_type": "stream",
     "text": [
      "Bar plot for job_simplified: Total unique: n=6\n"
     ]
    },
    {
     "data": {
      "image/png": "[encoded data removed]",
      "text/plain": [
       "<Figure size 432x288 with 1 Axes>"
      ]
     },
     "metadata": {
      "needs_background": "light"
     },
     "output_type": "display_data"
    },
    {
     "name": "stdout",
     "output_type": "stream",
     "text": [
      "Bar plot for seniority: Total unique: n=3\n"
     ]
    },
    {
     "data": {
      "image/png": "[encoded data removed]",
      "text/plain": [
       "<Figure size 432x288 with 1 Axes>"
      ]
     },
     "metadata": {
      "needs_background": "light"
     },
     "output_type": "display_data"
    },
    {
     "name": "stdout",
     "output_type": "stream",
     "text": [
      "Bar plot for num_competitors: Total unique: n=5\n"
     ]
    },
    {
     "data": {
      "image/png": "[encoded data removed]",
      "text/plain": [
       "<Figure size 432x288 with 1 Axes>"
      ]
     },
     "metadata": {
      "needs_background": "light"
     },
     "output_type": "display_data"
    },
    {
     "name": "stdout",
     "output_type": "stream",
     "text": [
      "Bar plot for job_state: Total unique: n=20\n"
     ]
    },
    {
     "data": {
      "image/png": "[encoded data removed]",
      "text/plain": [
       "<Figure size 432x288 with 1 Axes>"
      ]
     },
     "metadata": {
      "needs_background": "light"
     },
     "output_type": "display_data"
    },
    {
     "name": "stdout",
     "output_type": "stream",
     "text": [
      "Bar plot for hq_state: Total unique: n=20\n"
     ]
    },
    {
     "data": {
      "image/png": "[encoded data removed]",
      "text/plain": [
       "<Figure size 432x288 with 1 Axes>"
      ]
     },
     "metadata": {
      "needs_background": "light"
     },
     "output_type": "display_data"
    },
    {
     "name": "stdout",
     "output_type": "stream",
     "text": [
      "Bar plot for job_in_HQ_flag: Total unique: n=2\n"
     ]
    },
    {
     "data": {
      "image/png": "[encoded data removed]",
      "text/plain": [
       "<Figure size 432x288 with 1 Axes>"
      ]
     },
     "metadata": {
      "needs_background": "light"
     },
     "output_type": "display_data"
    }
   ],
   "source": [
    "# Plotting the larger variables for Top 20 entries\n",
    "\n",
    "cat_cols = ['Industry', 'Sector', 'Location', 'Headquarters','Revenue','job_simplified','seniority','num_competitors','job_state', 'hq_state', 'job_in_HQ_flag']\n",
    "\n",
    "df_cat = df.loc[:,cat_cols]\n",
    "\n",
    "for col in df_cat.columns:\n",
    "    cat_num = df_cat[col].value_counts()[:20]\n",
    "    \n",
    "    print(\"Bar plot for %s: Total unique: n=%d\" % (col, len(cat_num)))\n",
    "    \n",
    "    sns.barplot(x=cat_num.index, y=cat_num)\n",
    "    plt.xticks(rotation=90)\n",
    "    plt.show()"
   ]
  },
  {
   "cell_type": "code",
   "execution_count": 27,
   "metadata": {},
   "outputs": [
    {
     "data": {
      "text/html": [
       "<div>\n",
       "<style scoped>\n",
       "    .dataframe tbody tr th:only-of-type {\n",
       "        vertical-align: middle;\n",
       "    }\n",
       "\n",
       "    .dataframe tbody tr th {\n",
       "        vertical-align: top;\n",
       "    }\n",
       "\n",
       "    .dataframe thead th {\n",
       "        text-align: right;\n",
       "    }\n",
       "</style>\n",
       "<table border=\"1\" class=\"dataframe\">\n",
       "  <thead>\n",
       "    <tr style=\"text-align: right;\">\n",
       "      <th></th>\n",
       "      <th></th>\n",
       "      <th>avg_salary</th>\n",
       "    </tr>\n",
       "    <tr>\n",
       "      <th>job_simplified</th>\n",
       "      <th>seniority</th>\n",
       "      <th></th>\n",
       "    </tr>\n",
       "  </thead>\n",
       "  <tbody>\n",
       "    <tr>\n",
       "      <th rowspan=\"2\" valign=\"top\">data engineer</th>\n",
       "      <th>na</th>\n",
       "      <td>94.506329</td>\n",
       "    </tr>\n",
       "    <tr>\n",
       "      <th>senior</th>\n",
       "      <td>124.689189</td>\n",
       "    </tr>\n",
       "    <tr>\n",
       "      <th rowspan=\"3\" valign=\"top\">data scientist</th>\n",
       "      <th>junior</th>\n",
       "      <td>106.500000</td>\n",
       "    </tr>\n",
       "    <tr>\n",
       "      <th>na</th>\n",
       "      <td>107.099448</td>\n",
       "    </tr>\n",
       "    <tr>\n",
       "      <th>senior</th>\n",
       "      <td>139.856322</td>\n",
       "    </tr>\n",
       "    <tr>\n",
       "      <th>director</th>\n",
       "      <th>na</th>\n",
       "      <td>166.117647</td>\n",
       "    </tr>\n",
       "    <tr>\n",
       "      <th rowspan=\"2\" valign=\"top\">machine learning</th>\n",
       "      <th>na</th>\n",
       "      <td>113.947368</td>\n",
       "    </tr>\n",
       "    <tr>\n",
       "      <th>senior</th>\n",
       "      <td>127.600000</td>\n",
       "    </tr>\n",
       "    <tr>\n",
       "      <th rowspan=\"2\" valign=\"top\">manager</th>\n",
       "      <th>na</th>\n",
       "      <td>86.760870</td>\n",
       "    </tr>\n",
       "    <tr>\n",
       "      <th>senior</th>\n",
       "      <td>167.500000</td>\n",
       "    </tr>\n",
       "    <tr>\n",
       "      <th rowspan=\"3\" valign=\"top\">na</th>\n",
       "      <th>junior</th>\n",
       "      <td>53.250000</td>\n",
       "    </tr>\n",
       "    <tr>\n",
       "      <th>na</th>\n",
       "      <td>72.454200</td>\n",
       "    </tr>\n",
       "    <tr>\n",
       "      <th>senior</th>\n",
       "      <td>99.775714</td>\n",
       "    </tr>\n",
       "  </tbody>\n",
       "</table>\n",
       "</div>"
      ],
      "text/plain": [
       "                            avg_salary\n",
       "job_simplified   seniority            \n",
       "data engineer    na          94.506329\n",
       "                 senior     124.689189\n",
       "data scientist   junior     106.500000\n",
       "                 na         107.099448\n",
       "                 senior     139.856322\n",
       "director         na         166.117647\n",
       "machine learning na         113.947368\n",
       "                 senior     127.600000\n",
       "manager          na          86.760870\n",
       "                 senior     167.500000\n",
       "na               junior      53.250000\n",
       "                 na          72.454200\n",
       "                 senior      99.775714"
      ]
     },
     "execution_count": 27,
     "metadata": {},
     "output_type": "execute_result"
    }
   ],
   "source": [
    "# Use pivots to get rough estimate of averages\n",
    "pd.pivot_table(df, index = ['job_simplified','seniority'], values = 'avg_salary')\n"
   ]
  },
  {
   "cell_type": "code",
   "execution_count": 28,
   "metadata": {},
   "outputs": [
    {
     "data": {
      "text/html": [
       "<div>\n",
       "<style scoped>\n",
       "    .dataframe tbody tr th:only-of-type {\n",
       "        vertical-align: middle;\n",
       "    }\n",
       "\n",
       "    .dataframe tbody tr th {\n",
       "        vertical-align: top;\n",
       "    }\n",
       "\n",
       "    .dataframe thead th {\n",
       "        text-align: right;\n",
       "    }\n",
       "</style>\n",
       "<table border=\"1\" class=\"dataframe\">\n",
       "  <thead>\n",
       "    <tr style=\"text-align: right;\">\n",
       "      <th></th>\n",
       "      <th>avg_salary</th>\n",
       "    </tr>\n",
       "    <tr>\n",
       "      <th>Location</th>\n",
       "      <th></th>\n",
       "    </tr>\n",
       "  </thead>\n",
       "  <tbody>\n",
       "    <tr>\n",
       "      <th>Bellevue, WA</th>\n",
       "      <td>184.5000</td>\n",
       "    </tr>\n",
       "    <tr>\n",
       "      <th>Lake Forest, IL</th>\n",
       "      <td>179.5000</td>\n",
       "    </tr>\n",
       "    <tr>\n",
       "      <th>Mountain View, CA</th>\n",
       "      <td>177.1875</td>\n",
       "    </tr>\n",
       "    <tr>\n",
       "      <th>Novato, CA</th>\n",
       "      <td>168.0000</td>\n",
       "    </tr>\n",
       "    <tr>\n",
       "      <th>Burbank, CA</th>\n",
       "      <td>164.0000</td>\n",
       "    </tr>\n",
       "    <tr>\n",
       "      <th>...</th>\n",
       "      <td>...</td>\n",
       "    </tr>\n",
       "    <tr>\n",
       "      <th>West Reading, PA</th>\n",
       "      <td>42.6400</td>\n",
       "    </tr>\n",
       "    <tr>\n",
       "      <th>Kansas City, MO</th>\n",
       "      <td>40.5000</td>\n",
       "    </tr>\n",
       "    <tr>\n",
       "      <th>Alabaster, AL</th>\n",
       "      <td>39.5000</td>\n",
       "    </tr>\n",
       "    <tr>\n",
       "      <th>Longmont, CO</th>\n",
       "      <td>29.5000</td>\n",
       "    </tr>\n",
       "    <tr>\n",
       "      <th>Port Washington, NY</th>\n",
       "      <td>15.5000</td>\n",
       "    </tr>\n",
       "  </tbody>\n",
       "</table>\n",
       "<p>200 rows × 1 columns</p>\n",
       "</div>"
      ],
      "text/plain": [
       "                     avg_salary\n",
       "Location                       \n",
       "Bellevue, WA           184.5000\n",
       "Lake Forest, IL        179.5000\n",
       "Mountain View, CA      177.1875\n",
       "Novato, CA             168.0000\n",
       "Burbank, CA            164.0000\n",
       "...                         ...\n",
       "West Reading, PA        42.6400\n",
       "Kansas City, MO         40.5000\n",
       "Alabaster, AL           39.5000\n",
       "Longmont, CO            29.5000\n",
       "Port Washington, NY     15.5000\n",
       "\n",
       "[200 rows x 1 columns]"
      ]
     },
     "execution_count": 28,
     "metadata": {},
     "output_type": "execute_result"
    }
   ],
   "source": [
    "pd.pivot_table(df, index = 'Location', values = 'avg_salary').sort_values('avg_salary', ascending = False)"
   ]
  },
  {
   "cell_type": "code",
   "execution_count": 29,
   "metadata": {},
   "outputs": [
    {
     "data": {
      "text/html": [
       "<div>\n",
       "<style scoped>\n",
       "    .dataframe tbody tr th:only-of-type {\n",
       "        vertical-align: middle;\n",
       "    }\n",
       "\n",
       "    .dataframe tbody tr th {\n",
       "        vertical-align: top;\n",
       "    }\n",
       "\n",
       "    .dataframe thead th {\n",
       "        text-align: right;\n",
       "    }\n",
       "</style>\n",
       "<table border=\"1\" class=\"dataframe\">\n",
       "  <thead>\n",
       "    <tr style=\"text-align: right;\">\n",
       "      <th></th>\n",
       "      <th>avg_salary</th>\n",
       "    </tr>\n",
       "    <tr>\n",
       "      <th>job_state</th>\n",
       "      <th></th>\n",
       "    </tr>\n",
       "  </thead>\n",
       "  <tbody>\n",
       "    <tr>\n",
       "      <th>CA</th>\n",
       "      <td>123.513158</td>\n",
       "    </tr>\n",
       "    <tr>\n",
       "      <th>IL</th>\n",
       "      <td>116.662500</td>\n",
       "    </tr>\n",
       "    <tr>\n",
       "      <th>DC</th>\n",
       "      <td>110.181818</td>\n",
       "    </tr>\n",
       "    <tr>\n",
       "      <th>MA</th>\n",
       "      <td>107.503107</td>\n",
       "    </tr>\n",
       "    <tr>\n",
       "      <th>NJ</th>\n",
       "      <td>104.558824</td>\n",
       "    </tr>\n",
       "    <tr>\n",
       "      <th>MI</th>\n",
       "      <td>100.250000</td>\n",
       "    </tr>\n",
       "    <tr>\n",
       "      <th>RI</th>\n",
       "      <td>100.000000</td>\n",
       "    </tr>\n",
       "    <tr>\n",
       "      <th>NY</th>\n",
       "      <td>98.652778</td>\n",
       "    </tr>\n",
       "    <tr>\n",
       "      <th>NC</th>\n",
       "      <td>98.452381</td>\n",
       "    </tr>\n",
       "    <tr>\n",
       "      <th>MD</th>\n",
       "      <td>97.357143</td>\n",
       "    </tr>\n",
       "    <tr>\n",
       "      <th>KY</th>\n",
       "      <td>97.000000</td>\n",
       "    </tr>\n",
       "    <tr>\n",
       "      <th>VA</th>\n",
       "      <td>95.621951</td>\n",
       "    </tr>\n",
       "    <tr>\n",
       "      <th>UT</th>\n",
       "      <td>94.150000</td>\n",
       "    </tr>\n",
       "    <tr>\n",
       "      <th>PA</th>\n",
       "      <td>93.902424</td>\n",
       "    </tr>\n",
       "    <tr>\n",
       "      <th>WA</th>\n",
       "      <td>93.190476</td>\n",
       "    </tr>\n",
       "    <tr>\n",
       "      <th>TX</th>\n",
       "      <td>92.710000</td>\n",
       "    </tr>\n",
       "    <tr>\n",
       "      <th>OR</th>\n",
       "      <td>92.125000</td>\n",
       "    </tr>\n",
       "    <tr>\n",
       "      <th>IN</th>\n",
       "      <td>90.300000</td>\n",
       "    </tr>\n",
       "    <tr>\n",
       "      <th>TN</th>\n",
       "      <td>89.358462</td>\n",
       "    </tr>\n",
       "    <tr>\n",
       "      <th>OH</th>\n",
       "      <td>87.571429</td>\n",
       "    </tr>\n",
       "    <tr>\n",
       "      <th>KS</th>\n",
       "      <td>87.000000</td>\n",
       "    </tr>\n",
       "    <tr>\n",
       "      <th>CO</th>\n",
       "      <td>86.323636</td>\n",
       "    </tr>\n",
       "    <tr>\n",
       "      <th>AZ</th>\n",
       "      <td>85.666667</td>\n",
       "    </tr>\n",
       "    <tr>\n",
       "      <th>MN</th>\n",
       "      <td>85.500000</td>\n",
       "    </tr>\n",
       "    <tr>\n",
       "      <th>MO</th>\n",
       "      <td>84.722222</td>\n",
       "    </tr>\n",
       "    <tr>\n",
       "      <th>GA</th>\n",
       "      <td>80.666667</td>\n",
       "    </tr>\n",
       "    <tr>\n",
       "      <th>IA</th>\n",
       "      <td>78.900000</td>\n",
       "    </tr>\n",
       "    <tr>\n",
       "      <th>FL</th>\n",
       "      <td>77.625000</td>\n",
       "    </tr>\n",
       "    <tr>\n",
       "      <th>NM</th>\n",
       "      <td>74.333333</td>\n",
       "    </tr>\n",
       "    <tr>\n",
       "      <th>WI</th>\n",
       "      <td>73.300000</td>\n",
       "    </tr>\n",
       "    <tr>\n",
       "      <th>CT</th>\n",
       "      <td>71.100000</td>\n",
       "    </tr>\n",
       "    <tr>\n",
       "      <th>SC</th>\n",
       "      <td>60.500000</td>\n",
       "    </tr>\n",
       "    <tr>\n",
       "      <th>AL</th>\n",
       "      <td>57.937500</td>\n",
       "    </tr>\n",
       "    <tr>\n",
       "      <th>LA</th>\n",
       "      <td>57.650000</td>\n",
       "    </tr>\n",
       "    <tr>\n",
       "      <th>DE</th>\n",
       "      <td>57.200000</td>\n",
       "    </tr>\n",
       "    <tr>\n",
       "      <th>ID</th>\n",
       "      <td>56.250000</td>\n",
       "    </tr>\n",
       "    <tr>\n",
       "      <th>NE</th>\n",
       "      <td>54.500000</td>\n",
       "    </tr>\n",
       "  </tbody>\n",
       "</table>\n",
       "</div>"
      ],
      "text/plain": [
       "           avg_salary\n",
       "job_state            \n",
       "CA         123.513158\n",
       "IL         116.662500\n",
       "DC         110.181818\n",
       "MA         107.503107\n",
       "NJ         104.558824\n",
       "MI         100.250000\n",
       "RI         100.000000\n",
       "NY          98.652778\n",
       "NC          98.452381\n",
       "MD          97.357143\n",
       "KY          97.000000\n",
       "VA          95.621951\n",
       "UT          94.150000\n",
       "PA          93.902424\n",
       "WA          93.190476\n",
       "TX          92.710000\n",
       "OR          92.125000\n",
       "IN          90.300000\n",
       "TN          89.358462\n",
       "OH          87.571429\n",
       "KS          87.000000\n",
       "CO          86.323636\n",
       "AZ          85.666667\n",
       "MN          85.500000\n",
       "MO          84.722222\n",
       "GA          80.666667\n",
       "IA          78.900000\n",
       "FL          77.625000\n",
       "NM          74.333333\n",
       "WI          73.300000\n",
       "CT          71.100000\n",
       "SC          60.500000\n",
       "AL          57.937500\n",
       "LA          57.650000\n",
       "DE          57.200000\n",
       "ID          56.250000\n",
       "NE          54.500000"
      ]
     },
     "execution_count": 29,
     "metadata": {},
     "output_type": "execute_result"
    }
   ],
   "source": [
    "pd.pivot_table(df, index = 'job_state', values = 'avg_salary').sort_values('avg_salary', ascending = False)"
   ]
  },
  {
   "cell_type": "code",
   "execution_count": 30,
   "metadata": {},
   "outputs": [
    {
     "data": {
      "text/html": [
       "<div>\n",
       "<style scoped>\n",
       "    .dataframe tbody tr th:only-of-type {\n",
       "        vertical-align: middle;\n",
       "    }\n",
       "\n",
       "    .dataframe tbody tr th {\n",
       "        vertical-align: top;\n",
       "    }\n",
       "\n",
       "    .dataframe thead th {\n",
       "        text-align: right;\n",
       "    }\n",
       "</style>\n",
       "<table border=\"1\" class=\"dataframe\">\n",
       "  <thead>\n",
       "    <tr style=\"text-align: right;\">\n",
       "      <th></th>\n",
       "      <th></th>\n",
       "      <th>avg_salary</th>\n",
       "    </tr>\n",
       "    <tr>\n",
       "      <th>job_state</th>\n",
       "      <th>job_simplified</th>\n",
       "      <th></th>\n",
       "    </tr>\n",
       "  </thead>\n",
       "  <tbody>\n",
       "    <tr>\n",
       "      <th rowspan=\"2\" valign=\"top\">WI</th>\n",
       "      <th>na</th>\n",
       "      <td>7</td>\n",
       "    </tr>\n",
       "    <tr>\n",
       "      <th>data scientist</th>\n",
       "      <td>3</td>\n",
       "    </tr>\n",
       "    <tr>\n",
       "      <th rowspan=\"2\" valign=\"top\">WA</th>\n",
       "      <th>data scientist</th>\n",
       "      <td>17</td>\n",
       "    </tr>\n",
       "    <tr>\n",
       "      <th>na</th>\n",
       "      <td>4</td>\n",
       "    </tr>\n",
       "    <tr>\n",
       "      <th rowspan=\"4\" valign=\"top\">VA</th>\n",
       "      <th>data scientist</th>\n",
       "      <td>17</td>\n",
       "    </tr>\n",
       "    <tr>\n",
       "      <th>na</th>\n",
       "      <td>11</td>\n",
       "    </tr>\n",
       "    <tr>\n",
       "      <th>data engineer</th>\n",
       "      <td>10</td>\n",
       "    </tr>\n",
       "    <tr>\n",
       "      <th>machine learning</th>\n",
       "      <td>3</td>\n",
       "    </tr>\n",
       "    <tr>\n",
       "      <th rowspan=\"3\" valign=\"top\">UT</th>\n",
       "      <th>na</th>\n",
       "      <td>4</td>\n",
       "    </tr>\n",
       "    <tr>\n",
       "      <th>data engineer</th>\n",
       "      <td>3</td>\n",
       "    </tr>\n",
       "    <tr>\n",
       "      <th>data scientist</th>\n",
       "      <td>3</td>\n",
       "    </tr>\n",
       "    <tr>\n",
       "      <th rowspan=\"4\" valign=\"top\">TX</th>\n",
       "      <th>data scientist</th>\n",
       "      <td>11</td>\n",
       "    </tr>\n",
       "    <tr>\n",
       "      <th>data engineer</th>\n",
       "      <td>8</td>\n",
       "    </tr>\n",
       "    <tr>\n",
       "      <th>na</th>\n",
       "      <td>7</td>\n",
       "    </tr>\n",
       "    <tr>\n",
       "      <th>machine learning</th>\n",
       "      <td>2</td>\n",
       "    </tr>\n",
       "    <tr>\n",
       "      <th rowspan=\"3\" valign=\"top\">TN</th>\n",
       "      <th>data engineer</th>\n",
       "      <td>10</td>\n",
       "    </tr>\n",
       "    <tr>\n",
       "      <th>na</th>\n",
       "      <td>2</td>\n",
       "    </tr>\n",
       "    <tr>\n",
       "      <th>data scientist</th>\n",
       "      <td>1</td>\n",
       "    </tr>\n",
       "    <tr>\n",
       "      <th>SC</th>\n",
       "      <th>na</th>\n",
       "      <td>1</td>\n",
       "    </tr>\n",
       "    <tr>\n",
       "      <th>RI</th>\n",
       "      <th>na</th>\n",
       "      <td>1</td>\n",
       "    </tr>\n",
       "    <tr>\n",
       "      <th rowspan=\"5\" valign=\"top\">PA</th>\n",
       "      <th>na</th>\n",
       "      <td>16</td>\n",
       "    </tr>\n",
       "    <tr>\n",
       "      <th>machine learning</th>\n",
       "      <td>7</td>\n",
       "    </tr>\n",
       "    <tr>\n",
       "      <th>data scientist</th>\n",
       "      <td>6</td>\n",
       "    </tr>\n",
       "    <tr>\n",
       "      <th>manager</th>\n",
       "      <td>3</td>\n",
       "    </tr>\n",
       "    <tr>\n",
       "      <th>data engineer</th>\n",
       "      <td>1</td>\n",
       "    </tr>\n",
       "    <tr>\n",
       "      <th rowspan=\"2\" valign=\"top\">OR</th>\n",
       "      <th>data scientist</th>\n",
       "      <td>3</td>\n",
       "    </tr>\n",
       "    <tr>\n",
       "      <th>data engineer</th>\n",
       "      <td>1</td>\n",
       "    </tr>\n",
       "    <tr>\n",
       "      <th rowspan=\"2\" valign=\"top\">OH</th>\n",
       "      <th>data scientist</th>\n",
       "      <td>7</td>\n",
       "    </tr>\n",
       "    <tr>\n",
       "      <th>na</th>\n",
       "      <td>7</td>\n",
       "    </tr>\n",
       "    <tr>\n",
       "      <th rowspan=\"5\" valign=\"top\">NY</th>\n",
       "      <th>data scientist</th>\n",
       "      <td>35</td>\n",
       "    </tr>\n",
       "    <tr>\n",
       "      <th>na</th>\n",
       "      <td>26</td>\n",
       "    </tr>\n",
       "    <tr>\n",
       "      <th>data engineer</th>\n",
       "      <td>4</td>\n",
       "    </tr>\n",
       "    <tr>\n",
       "      <th>machine learning</th>\n",
       "      <td>4</td>\n",
       "    </tr>\n",
       "    <tr>\n",
       "      <th>manager</th>\n",
       "      <td>3</td>\n",
       "    </tr>\n",
       "    <tr>\n",
       "      <th>NM</th>\n",
       "      <th>data scientist</th>\n",
       "      <td>3</td>\n",
       "    </tr>\n",
       "    <tr>\n",
       "      <th rowspan=\"5\" valign=\"top\">NJ</th>\n",
       "      <th>na</th>\n",
       "      <td>7</td>\n",
       "    </tr>\n",
       "    <tr>\n",
       "      <th>data scientist</th>\n",
       "      <td>4</td>\n",
       "    </tr>\n",
       "    <tr>\n",
       "      <th>data engineer</th>\n",
       "      <td>2</td>\n",
       "    </tr>\n",
       "    <tr>\n",
       "      <th>director</th>\n",
       "      <td>2</td>\n",
       "    </tr>\n",
       "    <tr>\n",
       "      <th>manager</th>\n",
       "      <td>2</td>\n",
       "    </tr>\n",
       "    <tr>\n",
       "      <th>NE</th>\n",
       "      <th>na</th>\n",
       "      <td>4</td>\n",
       "    </tr>\n",
       "    <tr>\n",
       "      <th rowspan=\"3\" valign=\"top\">NC</th>\n",
       "      <th>na</th>\n",
       "      <td>12</td>\n",
       "    </tr>\n",
       "    <tr>\n",
       "      <th>data engineer</th>\n",
       "      <td>6</td>\n",
       "    </tr>\n",
       "    <tr>\n",
       "      <th>data scientist</th>\n",
       "      <td>3</td>\n",
       "    </tr>\n",
       "    <tr>\n",
       "      <th rowspan=\"3\" valign=\"top\">MO</th>\n",
       "      <th>na</th>\n",
       "      <td>5</td>\n",
       "    </tr>\n",
       "    <tr>\n",
       "      <th>data scientist</th>\n",
       "      <td>3</td>\n",
       "    </tr>\n",
       "    <tr>\n",
       "      <th>manager</th>\n",
       "      <td>1</td>\n",
       "    </tr>\n",
       "    <tr>\n",
       "      <th rowspan=\"2\" valign=\"top\">MN</th>\n",
       "      <th>data engineer</th>\n",
       "      <td>1</td>\n",
       "    </tr>\n",
       "    <tr>\n",
       "      <th>na</th>\n",
       "      <td>1</td>\n",
       "    </tr>\n",
       "    <tr>\n",
       "      <th rowspan=\"2\" valign=\"top\">MI</th>\n",
       "      <th>data scientist</th>\n",
       "      <td>4</td>\n",
       "    </tr>\n",
       "    <tr>\n",
       "      <th>manager</th>\n",
       "      <td>2</td>\n",
       "    </tr>\n",
       "    <tr>\n",
       "      <th rowspan=\"3\" valign=\"top\">MD</th>\n",
       "      <th>na</th>\n",
       "      <td>19</td>\n",
       "    </tr>\n",
       "    <tr>\n",
       "      <th>data scientist</th>\n",
       "      <td>13</td>\n",
       "    </tr>\n",
       "    <tr>\n",
       "      <th>data engineer</th>\n",
       "      <td>3</td>\n",
       "    </tr>\n",
       "    <tr>\n",
       "      <th rowspan=\"6\" valign=\"top\">MA</th>\n",
       "      <th>na</th>\n",
       "      <td>50</td>\n",
       "    </tr>\n",
       "    <tr>\n",
       "      <th>data scientist</th>\n",
       "      <td>28</td>\n",
       "    </tr>\n",
       "    <tr>\n",
       "      <th>data engineer</th>\n",
       "      <td>9</td>\n",
       "    </tr>\n",
       "    <tr>\n",
       "      <th>director</th>\n",
       "      <td>9</td>\n",
       "    </tr>\n",
       "    <tr>\n",
       "      <th>manager</th>\n",
       "      <td>5</td>\n",
       "    </tr>\n",
       "    <tr>\n",
       "      <th>machine learning</th>\n",
       "      <td>2</td>\n",
       "    </tr>\n",
       "    <tr>\n",
       "      <th rowspan=\"2\" valign=\"top\">LA</th>\n",
       "      <th>data engineer</th>\n",
       "      <td>2</td>\n",
       "    </tr>\n",
       "    <tr>\n",
       "      <th>na</th>\n",
       "      <td>2</td>\n",
       "    </tr>\n",
       "    <tr>\n",
       "      <th rowspan=\"2\" valign=\"top\">KY</th>\n",
       "      <th>na</th>\n",
       "      <td>4</td>\n",
       "    </tr>\n",
       "    <tr>\n",
       "      <th>data scientist</th>\n",
       "      <td>2</td>\n",
       "    </tr>\n",
       "    <tr>\n",
       "      <th>KS</th>\n",
       "      <th>machine learning</th>\n",
       "      <td>3</td>\n",
       "    </tr>\n",
       "    <tr>\n",
       "      <th rowspan=\"3\" valign=\"top\">IN</th>\n",
       "      <th>data engineer</th>\n",
       "      <td>4</td>\n",
       "    </tr>\n",
       "    <tr>\n",
       "      <th>na</th>\n",
       "      <td>4</td>\n",
       "    </tr>\n",
       "    <tr>\n",
       "      <th>data scientist</th>\n",
       "      <td>2</td>\n",
       "    </tr>\n",
       "    <tr>\n",
       "      <th rowspan=\"5\" valign=\"top\">IL</th>\n",
       "      <th>data scientist</th>\n",
       "      <td>15</td>\n",
       "    </tr>\n",
       "    <tr>\n",
       "      <th>na</th>\n",
       "      <td>9</td>\n",
       "    </tr>\n",
       "    <tr>\n",
       "      <th>data engineer</th>\n",
       "      <td>8</td>\n",
       "    </tr>\n",
       "    <tr>\n",
       "      <th>director</th>\n",
       "      <td>6</td>\n",
       "    </tr>\n",
       "    <tr>\n",
       "      <th>machine learning</th>\n",
       "      <td>2</td>\n",
       "    </tr>\n",
       "    <tr>\n",
       "      <th>ID</th>\n",
       "      <th>na</th>\n",
       "      <td>2</td>\n",
       "    </tr>\n",
       "    <tr>\n",
       "      <th rowspan=\"2\" valign=\"top\">IA</th>\n",
       "      <th>data engineer</th>\n",
       "      <td>3</td>\n",
       "    </tr>\n",
       "    <tr>\n",
       "      <th>na</th>\n",
       "      <td>2</td>\n",
       "    </tr>\n",
       "    <tr>\n",
       "      <th rowspan=\"2\" valign=\"top\">GA</th>\n",
       "      <th>data scientist</th>\n",
       "      <td>3</td>\n",
       "    </tr>\n",
       "    <tr>\n",
       "      <th>na</th>\n",
       "      <td>3</td>\n",
       "    </tr>\n",
       "    <tr>\n",
       "      <th rowspan=\"3\" valign=\"top\">FL</th>\n",
       "      <th>data scientist</th>\n",
       "      <td>7</td>\n",
       "    </tr>\n",
       "    <tr>\n",
       "      <th>na</th>\n",
       "      <td>6</td>\n",
       "    </tr>\n",
       "    <tr>\n",
       "      <th>data engineer</th>\n",
       "      <td>3</td>\n",
       "    </tr>\n",
       "    <tr>\n",
       "      <th>DE</th>\n",
       "      <th>na</th>\n",
       "      <td>6</td>\n",
       "    </tr>\n",
       "    <tr>\n",
       "      <th rowspan=\"3\" valign=\"top\">DC</th>\n",
       "      <th>data scientist</th>\n",
       "      <td>5</td>\n",
       "    </tr>\n",
       "    <tr>\n",
       "      <th>data engineer</th>\n",
       "      <td>4</td>\n",
       "    </tr>\n",
       "    <tr>\n",
       "      <th>na</th>\n",
       "      <td>2</td>\n",
       "    </tr>\n",
       "    <tr>\n",
       "      <th rowspan=\"2\" valign=\"top\">CT</th>\n",
       "      <th>na</th>\n",
       "      <td>3</td>\n",
       "    </tr>\n",
       "    <tr>\n",
       "      <th>data scientist</th>\n",
       "      <td>2</td>\n",
       "    </tr>\n",
       "    <tr>\n",
       "      <th rowspan=\"4\" valign=\"top\">CO</th>\n",
       "      <th>na</th>\n",
       "      <td>4</td>\n",
       "    </tr>\n",
       "    <tr>\n",
       "      <th>data engineer</th>\n",
       "      <td>3</td>\n",
       "    </tr>\n",
       "    <tr>\n",
       "      <th>data scientist</th>\n",
       "      <td>3</td>\n",
       "    </tr>\n",
       "    <tr>\n",
       "      <th>machine learning</th>\n",
       "      <td>1</td>\n",
       "    </tr>\n",
       "    <tr>\n",
       "      <th rowspan=\"5\" valign=\"top\">CA</th>\n",
       "      <th>data scientist</th>\n",
       "      <td>68</td>\n",
       "    </tr>\n",
       "    <tr>\n",
       "      <th>na</th>\n",
       "      <td>45</td>\n",
       "    </tr>\n",
       "    <tr>\n",
       "      <th>data engineer</th>\n",
       "      <td>25</td>\n",
       "    </tr>\n",
       "    <tr>\n",
       "      <th>manager</th>\n",
       "      <td>9</td>\n",
       "    </tr>\n",
       "    <tr>\n",
       "      <th>machine learning</th>\n",
       "      <td>5</td>\n",
       "    </tr>\n",
       "    <tr>\n",
       "      <th rowspan=\"3\" valign=\"top\">AZ</th>\n",
       "      <th>data engineer</th>\n",
       "      <td>5</td>\n",
       "    </tr>\n",
       "    <tr>\n",
       "      <th>na</th>\n",
       "      <td>3</td>\n",
       "    </tr>\n",
       "    <tr>\n",
       "      <th>data scientist</th>\n",
       "      <td>1</td>\n",
       "    </tr>\n",
       "    <tr>\n",
       "      <th rowspan=\"2\" valign=\"top\">AL</th>\n",
       "      <th>na</th>\n",
       "      <td>7</td>\n",
       "    </tr>\n",
       "    <tr>\n",
       "      <th>data engineer</th>\n",
       "      <td>1</td>\n",
       "    </tr>\n",
       "  </tbody>\n",
       "</table>\n",
       "</div>"
      ],
      "text/plain": [
       "                            avg_salary\n",
       "job_state job_simplified              \n",
       "WI        na                         7\n",
       "          data scientist             3\n",
       "WA        data scientist            17\n",
       "          na                         4\n",
       "VA        data scientist            17\n",
       "          na                        11\n",
       "          data engineer             10\n",
       "          machine learning           3\n",
       "UT        na                         4\n",
       "          data engineer              3\n",
       "          data scientist             3\n",
       "TX        data scientist            11\n",
       "          data engineer              8\n",
       "          na                         7\n",
       "          machine learning           2\n",
       "TN        data engineer             10\n",
       "          na                         2\n",
       "          data scientist             1\n",
       "SC        na                         1\n",
       "RI        na                         1\n",
       "PA        na                        16\n",
       "          machine learning           7\n",
       "          data scientist             6\n",
       "          manager                    3\n",
       "          data engineer              1\n",
       "OR        data scientist             3\n",
       "          data engineer              1\n",
       "OH        data scientist             7\n",
       "          na                         7\n",
       "NY        data scientist            35\n",
       "          na                        26\n",
       "          data engineer              4\n",
       "          machine learning           4\n",
       "          manager                    3\n",
       "NM        data scientist             3\n",
       "NJ        na                         7\n",
       "          data scientist             4\n",
       "          data engineer              2\n",
       "          director                   2\n",
       "          manager                    2\n",
       "NE        na                         4\n",
       "NC        na                        12\n",
       "          data engineer              6\n",
       "          data scientist             3\n",
       "MO        na                         5\n",
       "          data scientist             3\n",
       "          manager                    1\n",
       "MN        data engineer              1\n",
       "          na                         1\n",
       "MI        data scientist             4\n",
       "          manager                    2\n",
       "MD        na                        19\n",
       "          data scientist            13\n",
       "          data engineer              3\n",
       "MA        na                        50\n",
       "          data scientist            28\n",
       "          data engineer              9\n",
       "          director                   9\n",
       "          manager                    5\n",
       "          machine learning           2\n",
       "LA        data engineer              2\n",
       "          na                         2\n",
       "KY        na                         4\n",
       "          data scientist             2\n",
       "KS        machine learning           3\n",
       "IN        data engineer              4\n",
       "          na                         4\n",
       "          data scientist             2\n",
       "IL        data scientist            15\n",
       "          na                         9\n",
       "          data engineer              8\n",
       "          director                   6\n",
       "          machine learning           2\n",
       "ID        na                         2\n",
       "IA        data engineer              3\n",
       "          na                         2\n",
       "GA        data scientist             3\n",
       "          na                         3\n",
       "FL        data scientist             7\n",
       "          na                         6\n",
       "          data engineer              3\n",
       "DE        na                         6\n",
       "DC        data scientist             5\n",
       "          data engineer              4\n",
       "          na                         2\n",
       "CT        na                         3\n",
       "          data scientist             2\n",
       "CO        na                         4\n",
       "          data engineer              3\n",
       "          data scientist             3\n",
       "          machine learning           1\n",
       "CA        data scientist            68\n",
       "          na                        45\n",
       "          data engineer             25\n",
       "          manager                    9\n",
       "          machine learning           5\n",
       "AZ        data engineer              5\n",
       "          na                         3\n",
       "          data scientist             1\n",
       "AL        na                         7\n",
       "          data engineer              1"
      ]
     },
     "metadata": {},
     "output_type": "display_data"
    }
   ],
   "source": [
    "pd.set_option('display.max_rows', 1000)\n",
    "\n",
    "display(pd.pivot_table(df, index = ['job_state', 'job_simplified'], values = 'avg_salary', aggfunc = 'count').sort_values(['job_state','avg_salary'], ascending = False))"
   ]
  },
  {
   "cell_type": "code",
   "execution_count": 31,
   "metadata": {},
   "outputs": [
    {
     "data": {
      "text/html": [
       "<div>\n",
       "<style scoped>\n",
       "    .dataframe tbody tr th:only-of-type {\n",
       "        vertical-align: middle;\n",
       "    }\n",
       "\n",
       "    .dataframe tbody tr th {\n",
       "        vertical-align: top;\n",
       "    }\n",
       "\n",
       "    .dataframe thead th {\n",
       "        text-align: right;\n",
       "    }\n",
       "</style>\n",
       "<table border=\"1\" class=\"dataframe\">\n",
       "  <thead>\n",
       "    <tr style=\"text-align: right;\">\n",
       "      <th></th>\n",
       "      <th>avg_salary</th>\n",
       "    </tr>\n",
       "    <tr>\n",
       "      <th>job_state</th>\n",
       "      <th></th>\n",
       "    </tr>\n",
       "  </thead>\n",
       "  <tbody>\n",
       "    <tr>\n",
       "      <th>DC</th>\n",
       "      <td>149.000000</td>\n",
       "    </tr>\n",
       "    <tr>\n",
       "      <th>CA</th>\n",
       "      <td>142.522059</td>\n",
       "    </tr>\n",
       "    <tr>\n",
       "      <th>UT</th>\n",
       "      <td>140.500000</td>\n",
       "    </tr>\n",
       "    <tr>\n",
       "      <th>MO</th>\n",
       "      <td>127.666667</td>\n",
       "    </tr>\n",
       "    <tr>\n",
       "      <th>IL</th>\n",
       "      <td>117.233333</td>\n",
       "    </tr>\n",
       "    <tr>\n",
       "      <th>NC</th>\n",
       "      <td>117.000000</td>\n",
       "    </tr>\n",
       "    <tr>\n",
       "      <th>MA</th>\n",
       "      <td>113.696429</td>\n",
       "    </tr>\n",
       "    <tr>\n",
       "      <th>NY</th>\n",
       "      <td>113.685714</td>\n",
       "    </tr>\n",
       "    <tr>\n",
       "      <th>WI</th>\n",
       "      <td>113.500000</td>\n",
       "    </tr>\n",
       "    <tr>\n",
       "      <th>PA</th>\n",
       "      <td>113.333333</td>\n",
       "    </tr>\n",
       "    <tr>\n",
       "      <th>VA</th>\n",
       "      <td>109.529412</td>\n",
       "    </tr>\n",
       "    <tr>\n",
       "      <th>MD</th>\n",
       "      <td>109.115385</td>\n",
       "    </tr>\n",
       "    <tr>\n",
       "      <th>CO</th>\n",
       "      <td>108.666667</td>\n",
       "    </tr>\n",
       "    <tr>\n",
       "      <th>NJ</th>\n",
       "      <td>106.875000</td>\n",
       "    </tr>\n",
       "    <tr>\n",
       "      <th>MI</th>\n",
       "      <td>106.625000</td>\n",
       "    </tr>\n",
       "    <tr>\n",
       "      <th>OH</th>\n",
       "      <td>105.285714</td>\n",
       "    </tr>\n",
       "    <tr>\n",
       "      <th>TX</th>\n",
       "      <td>101.590909</td>\n",
       "    </tr>\n",
       "    <tr>\n",
       "      <th>WA</th>\n",
       "      <td>99.764706</td>\n",
       "    </tr>\n",
       "    <tr>\n",
       "      <th>OR</th>\n",
       "      <td>98.500000</td>\n",
       "    </tr>\n",
       "    <tr>\n",
       "      <th>FL</th>\n",
       "      <td>97.357143</td>\n",
       "    </tr>\n",
       "    <tr>\n",
       "      <th>TN</th>\n",
       "      <td>96.000000</td>\n",
       "    </tr>\n",
       "    <tr>\n",
       "      <th>IN</th>\n",
       "      <td>84.500000</td>\n",
       "    </tr>\n",
       "    <tr>\n",
       "      <th>KY</th>\n",
       "      <td>84.000000</td>\n",
       "    </tr>\n",
       "    <tr>\n",
       "      <th>CT</th>\n",
       "      <td>84.000000</td>\n",
       "    </tr>\n",
       "    <tr>\n",
       "      <th>GA</th>\n",
       "      <td>81.333333</td>\n",
       "    </tr>\n",
       "    <tr>\n",
       "      <th>NM</th>\n",
       "      <td>74.333333</td>\n",
       "    </tr>\n",
       "    <tr>\n",
       "      <th>AZ</th>\n",
       "      <td>69.500000</td>\n",
       "    </tr>\n",
       "  </tbody>\n",
       "</table>\n",
       "</div>"
      ],
      "text/plain": [
       "           avg_salary\n",
       "job_state            \n",
       "DC         149.000000\n",
       "CA         142.522059\n",
       "UT         140.500000\n",
       "MO         127.666667\n",
       "IL         117.233333\n",
       "NC         117.000000\n",
       "MA         113.696429\n",
       "NY         113.685714\n",
       "WI         113.500000\n",
       "PA         113.333333\n",
       "VA         109.529412\n",
       "MD         109.115385\n",
       "CO         108.666667\n",
       "NJ         106.875000\n",
       "MI         106.625000\n",
       "OH         105.285714\n",
       "TX         101.590909\n",
       "WA          99.764706\n",
       "OR          98.500000\n",
       "FL          97.357143\n",
       "TN          96.000000\n",
       "IN          84.500000\n",
       "KY          84.000000\n",
       "CT          84.000000\n",
       "GA          81.333333\n",
       "NM          74.333333\n",
       "AZ          69.500000"
      ]
     },
     "metadata": {},
     "output_type": "display_data"
    }
   ],
   "source": [
    "display(pd.pivot_table(df.loc[df['job_simplified']=='data scientist'], index = ['job_state'], values = 'avg_salary').sort_values(['avg_salary'], ascending = False))"
   ]
  },
  {
   "cell_type": "code",
   "execution_count": 32,
   "metadata": {},
   "outputs": [],
   "source": [
    "# Understand salary by various categorical variables\n",
    "\n",
    "cat_cols = ['Rating','Location', 'Size', 'Type of ownership', 'Industry', 'Sector', 'Revenue', 'job_state', 'age_company', 'sas_flag', 'spark_flag', 'python_flag','matlab_flag', 'tensorflow_flag', 'tableau_flag', 'aws_flag','hadoop_flag', 'r_flag', 'job_simplified','avg_salary']\n",
    "\n",
    "df_for_piv = df.loc[:,cat_cols]"
   ]
  },
  {
   "cell_type": "code",
   "execution_count": 33,
   "metadata": {},
   "outputs": [
    {
     "data": {
      "text/plain": [
       "MultiIndex([( 'mean', 'avg_salary'),\n",
       "            ('count', 'avg_salary')],\n",
       "           )"
      ]
     },
     "execution_count": 33,
     "metadata": {},
     "output_type": "execute_result"
    }
   ],
   "source": [
    "pd.pivot_table(df_for_piv, index = 'job_state', values=['avg_salary'], aggfunc=['mean', 'count']).columns"
   ]
  },
  {
   "cell_type": "code",
   "execution_count": 34,
   "metadata": {},
   "outputs": [
    {
     "name": "stdout",
     "output_type": "stream",
     "text": [
      "              mean      count\n",
      "        avg_salary avg_salary\n",
      "Rating                       \n",
      "-1.0    136.181818         11\n",
      " 5.0    134.700000          5\n",
      " 2.5    120.000000          2\n",
      " 4.5    117.714286          7\n",
      " 4.1    116.368421         19\n",
      " 3.9    113.071429         63\n",
      " 2.6    109.083333         12\n",
      " 4.4    108.606061         33\n",
      " 4.0    107.316596         47\n",
      " 3.2    107.042857         35\n",
      " 3.7    105.804262         61\n",
      " 3.5    104.897959         49\n",
      " 3.3    104.060513         39\n",
      " 4.7    103.983871         31\n",
      " 4.3    102.468750         32\n",
      " 4.2    100.442308         26\n",
      " 2.2     97.750000          2\n",
      " 3.8     97.466557         61\n",
      " 4.6     97.250000         10\n",
      " 2.1     95.900000          5\n",
      " 3.4     93.502273         44\n",
      " 3.6     90.303913         46\n",
      " 1.9     87.500000          3\n",
      " 3.1     86.580000         25\n",
      " 3.0     85.588235         17\n",
      " 2.7     85.332857         14\n",
      " 2.8     83.928571          7\n",
      " 2.3     81.500000          2\n",
      " 2.9     81.138889         18\n",
      " 4.8     80.277778          9\n",
      " 2.4     60.214286          7\n",
      "                                         mean      count\n",
      "                                   avg_salary avg_salary\n",
      "Location                                                \n",
      "Bellevue, WA                       184.500000          2\n",
      "Lake Forest, IL                    179.500000          1\n",
      "Mountain View, CA                  177.187500          8\n",
      "Novato, CA                         168.000000          1\n",
      "Burbank, CA                        164.000000          4\n",
      "Emeryville, CA                     153.000000          1\n",
      "Newark, NJ                         146.000000          1\n",
      "Fort Lee, NJ                       145.666667          3\n",
      "Jersey City, NJ                    144.750000          2\n",
      "Saint Louis, MO                    143.500000          2\n",
      "Brisbane, CA                       143.500000          1\n",
      "San Jose, CA                       142.461538         13\n",
      "Marlborough, MA                    142.000000          6\n",
      "Cupertino, CA                      142.000000          2\n",
      "Foster City, CA                    139.500000          1\n",
      "Natick, MA                         139.500000          3\n",
      "Plano, TX                          139.000000          2\n",
      "San Francisco, CA                  137.244898         49\n",
      "Santa Clara, CA                    134.000000          2\n",
      "Arvada, CO                         133.500000          1\n",
      "Los Angeles, CA                    132.125000          4\n",
      "Palo Alto, CA                      131.285714          7\n",
      "Laurel, MD                         130.000000          1\n",
      "Ann Arbor, MI                      130.000000          1\n",
      "Allentown, PA                      127.500000          2\n",
      "Fremont, CA                        127.250000          2\n",
      "Chicago, IL                        126.765625         32\n",
      "Dublin, CA                         123.500000          2\n",
      "Armonk, NY                         123.000000          3\n",
      "Orlando, FL                        122.000000          2\n",
      "Irvine, CA                         121.000000          1\n",
      "Sunnyvale, CA                      121.000000          2\n",
      "Austin, TX                         120.437500          8\n",
      "Madison, WI                        120.000000          2\n",
      "Gaithersburg, MD                   118.250000          6\n",
      "Framingham, MA                     118.000000          1\n",
      "South San Francisco, CA            117.125000          8\n",
      "Des Moines, IA                     115.500000          2\n",
      "Phila, PA                          114.500000          2\n",
      "Aliso Viejo, CA                    113.000000          2\n",
      "Vancouver, WA                      112.750000          2\n",
      "Ipswich, MA                        112.500000          2\n",
      "Charlottesville, VA                112.000000          2\n",
      "Plymouth Meeting, PA               111.500000          2\n",
      "Concord, CA                        111.500000          3\n",
      "Cambridge, MA                      110.518298         47\n",
      "Westlake, OH                       110.500000          2\n",
      "Washington, DC                     110.181818         11\n",
      "Woburn, MA                         110.000000          1\n",
      "Ewing, NJ                          109.500000          2\n",
      "Franklin, TN                       109.000000          2\n",
      "Charlotte, NC                      108.250000          6\n",
      "Oakland, CA                        108.000000          1\n",
      "Glen Burnie, MD                    107.500000          1\n",
      "Santa Fe Springs, Los Angeles, CA  107.500000          1\n",
      "Pittsburgh, PA                     107.166667         12\n",
      "Frederick, MD                      107.000000          2\n",
      "Boston, MA                         106.608696         23\n",
      "Chattanooga, TN                    106.500000          1\n",
      "Landover, MD                       106.500000          1\n",
      "Long Beach, NY                     106.000000          1\n",
      "Herndon, VA                        104.900000         10\n",
      "Southfield, MI                     104.500000          1\n",
      "Fort Belvoir, VA                   103.750000          4\n",
      "Owensboro, KY                      103.500000          4\n",
      "Cincinnati, OH                     103.200000          5\n",
      "New York, NY                       103.136364         55\n",
      "Springfield, VA                    102.666667          3\n",
      "Raleigh, NC                        102.000000          1\n",
      "Silver Spring, MD                  101.666667          3\n",
      "Agoura Hills, CA                   101.000000          1\n",
      "Sheboygan, WI                      100.500000          1\n",
      "Aurora, CO                         100.500000          1\n",
      "Holyoke, MA                        100.500000          1\n",
      "Riverton, UT                       100.333333          3\n",
      "Providence, RI                     100.000000          1\n",
      "Chandler, AZ                       100.000000          2\n",
      "Hillsboro, OR                       99.500000          2\n",
      "Cambridge, MD                       99.000000          1\n",
      "Salt Lake City, UT                  98.916667          6\n",
      "Woodbridge, NJ                      98.500000          2\n",
      "Milpitas, CA                        98.500000          1\n",
      "Knoxville, TN                       98.000000          4\n",
      "Denver, CO                          97.900000          5\n",
      "Reston, VA                          97.000000          1\n",
      "San Diego, CA                       96.555556          9\n",
      "Portland, OR                        96.500000          1\n",
      "Winston-Salem, NC                   96.000000         10\n",
      "Detroit, MI                         96.000000          2\n",
      "Oak Ridge, TN                       96.000000          1\n",
      "McLean, VA                          95.166667          3\n",
      "Chantilly, VA                       94.750000          6\n",
      "Orange, CA                          94.500000          3\n",
      "Dallas, TX                          94.083333          6\n",
      "Waltham, MA                         94.000000          1\n",
      "Alameda, CA                         93.750000          2\n",
      "Annapolis Junction, MD              93.500000          3\n",
      "San Mateo, CA                       92.500000          1\n",
      "Philadelphia, PA                    91.900000          5\n",
      "King of Prussia, PA                 91.500000          1\n",
      "Newton, MA                          91.500000          2\n",
      "Indianapolis, IN                    91.388889          9\n",
      "Beavercreek, OH                     91.166667          3\n",
      "Rockville, MD                       91.000000         11\n",
      "Fort Lauderdale, FL                 91.000000          2\n",
      "Seattle, WA                         90.700000          5\n",
      "Quincy, MA                          90.000000          3\n",
      "San Ramon, CA                       90.000000          1\n",
      "Worcester, MA                       89.700000          5\n",
      "Arlington, VA                       89.500000          4\n",
      "Ashburn, VA                         89.500000          1\n",
      "Durham, NC                          89.000000          4\n",
      "Olympia, WA                         89.000000          1\n",
      "Redlands, CA                        87.750000          4\n",
      "Linthicum, MD                       87.500000          1\n",
      "Dearborn, MI                        87.500000          2\n",
      "Lenexa, KS                          87.000000          3\n",
      "Maryland Heights, MO                86.000000          2\n",
      "Santa Barbara, CA                   85.500000          1\n",
      "Syracuse, NY                        85.500000          1\n",
      "Suitland, MD                        85.500000          1\n",
      "Miami, FL                           85.500000          1\n",
      "Minneapolis, MN                     85.500000          2\n",
      "Phoenix, AZ                         85.083333          6\n",
      "Fort Worth, TX                      85.000000          1\n",
      "Coraopolis, PA                      85.000000          2\n",
      "Louisville, KY                      84.000000          2\n",
      "Groton, CT                          84.000000          2\n",
      "Allendale, NJ                       82.500000          1\n",
      "Valencia, CA                        81.500000          1\n",
      "Atlanta, GA                         81.333333          3\n",
      "Rochester, NY                       81.142857          7\n",
      "Peoria, IL                          81.000000          2\n",
      "Roanoke, VA                         81.000000          1\n",
      "Houston, TX                         80.750000          4\n",
      "Atlanta, IN                         80.500000          1\n",
      "Marietta, GA                        80.000000          3\n",
      "Dayton, OH                          79.000000          1\n",
      "Springfield, MA                     78.200000          5\n",
      "Lyndhurst, NJ                       78.000000          1\n",
      "Pella, IA                           77.500000          1\n",
      "Hampton, VA                         77.500000          3\n",
      "Hamilton, NJ                        77.500000          2\n",
      "Watertown, MA                       76.960000          1\n",
      "Richland, WA                        76.650000         10\n",
      "Carle Place, NY                     76.500000          1\n",
      "Albuquerque, NM                     74.333333          3\n",
      "Corvallis, OR                       73.000000          1\n",
      "Clearwater, FL                      73.000000          4\n",
      "Blue Bell, PA                       72.500000          2\n",
      "Patuxent River, MD                  72.500000          1\n",
      "Winter Park, FL                     71.500000          2\n",
      "Alexandria, VA                      71.000000          2\n",
      "Columbia, MO                        70.500000          2\n",
      "Portsmouth, VA                      70.500000          1\n",
      "Lafayette, LA                       70.500000          2\n",
      "Ithaca, NY                          70.000000          3\n",
      "Nashville, TN                       69.832000          5\n",
      "Baltimore, MD                       69.666667          3\n",
      "Bedford, MA                         69.500000          2\n",
      "Tampa, FL                           69.166667          3\n",
      "San Antonio, TX                     67.666667          3\n",
      "Vail, CO                            65.520000          3\n",
      "Birmingham, AL                      65.000000          1\n",
      "Scotts Valley, CA                   64.000000          4\n",
      "Boise, ID                           63.500000          1\n",
      "Hartford, CT                        62.500000          3\n",
      "Springfield, MO                     61.000000          2\n",
      "Scottsdale, AZ                      60.500000          1\n",
      "Columbia, SC                        60.500000          1\n",
      "Green Bay, WI                       60.000000          2\n",
      "Huntsville, AL                      59.833333          6\n",
      "Cherry Hill, NJ                     59.000000          1\n",
      "Bloomington, IL                     58.500000          1\n",
      "Red Bank, NJ                        58.000000          1\n",
      "Lewes, DE                           57.200000          2\n",
      "Millville, DE                       57.200000          4\n",
      "Matawan, NJ                         56.500000          1\n",
      "Harrisburg, PA                      56.500000          1\n",
      "Omaha, NE                           54.500000          4\n",
      "Milwaukee, WI                       54.500000          5\n",
      "Tacoma, WA                          53.500000          1\n",
      "Hoopeston, IL                       52.500000          4\n",
      "San Rafael, CA                      51.500000          2\n",
      "Clovis, CA                          51.000000          2\n",
      "Meridian, ID                        49.000000          1\n",
      "Exton, PA                           49.000000          2\n",
      "Highland, CA                        48.500000          4\n",
      "Parlier, CA                         47.500000          1\n",
      "Logan, UT                           47.000000          1\n",
      "Richfield, OH                       45.500000          3\n",
      "New Orleans, LA                     44.800000          2\n",
      "Burleson, TX                        44.720000          4\n",
      "West Palm Beach, FL                 44.000000          2\n",
      "Cedar Rapids, IA                    43.000000          2\n",
      "West Reading, PA                    42.640000          2\n",
      "Kansas City, MO                     40.500000          1\n",
      "Alabaster, AL                       39.500000          1\n",
      "Longmont, CO                        29.500000          1\n",
      "Port Washington, NY                 15.500000          1\n",
      "                               mean      count\n",
      "                         avg_salary avg_salary\n",
      "Size                                          \n",
      "Unknown                  128.111111          9\n",
      "-1                       117.500000          1\n",
      "10000+ employees         112.812308        130\n",
      "51 to 200 employees      111.776170         94\n",
      "1 to 50 employees        105.076129         31\n",
      "201 to 500 employees     100.247863        117\n",
      "5001 to 10000 employees   97.518947         76\n",
      "1001 to 5000 employees    94.723867        150\n",
      "501 to 1000 employees     91.515373        134\n",
      "                                      mean      count\n",
      "                                avg_salary avg_salary\n",
      "Type of ownership                                    \n",
      "-1                              117.500000          1\n",
      "Company - Public                111.044870        193\n",
      "Subsidiary or Business Segment  110.573529         34\n",
      "College / University            107.615385         13\n",
      "Company - Private               102.083707        410\n",
      "Government                       85.740000         15\n",
      "School / School District         77.750000          2\n",
      "Other Organization               77.500000          3\n",
      "Nonprofit Organization           73.308727         55\n",
      "Hospital                         66.996000         15\n",
      "Unknown                          39.500000          1\n",
      "                                                mean      count\n",
      "                                          avg_salary avg_salary\n",
      "Industry                                                       \n",
      "Other Retail Stores                       163.500000          1\n",
      "Motion Picture Production & Distribution  146.000000          1\n",
      "Financial Analytics & Research            145.125000          8\n",
      "Health, Beauty, & Fitness                 139.500000          1\n",
      "Telecommunications Services               131.500000          4\n",
      "Brokerage Services                        129.000000          2\n",
      "Auctions & Galleries                      128.000000          1\n",
      "Internet                                  123.810345         29\n",
      "Investment Banking & Asset Management     118.400000          5\n",
      "TV Broadcast & Cable Networks             117.750000          2\n",
      "Enterprise Software & Network Solutions   115.369048         42\n",
      "Computer Hardware & Software              115.194915         59\n",
      "-1                                        114.650000         10\n",
      "Accounting                                113.500000          1\n",
      "Biotech & Pharmaceuticals                 112.124643        112\n",
      "Insurance Agencies & Brokerages           109.250000          6\n",
      "K-12 Education                            108.875000          4\n",
      "Consulting                                108.689655         29\n",
      "Transportation Management                 107.500000          3\n",
      "Metals Brokers                            107.000000          2\n",
      "Staffing & Outsourcing                    106.200000         10\n",
      "Video Games                               106.166667          3\n",
      "Insurance Carriers                        105.626984         63\n",
      "Real Estate                               104.750000          8\n",
      "Transportation Equipment Manufacturing    104.500000          1\n",
      "Advertising & Marketing                   104.300000         25\n",
      "Wholesale                                 103.166667          3\n",
      "IT Services                               102.840000         50\n",
      "Colleges & Universities                   102.687500         16\n",
      "Aerospace & Defense                        99.060000         25\n",
      "Logistics & Supply Chain                   98.250000          4\n",
      "Gas Stations                               98.000000          4\n",
      "Mining                                     98.000000          1\n",
      "Consumer Products Manufacturing            95.350000         20\n",
      "Security Services                          93.500000          7\n",
      "Department, Clothing, & Shoe Stores        92.666667          6\n",
      "Stock Exchanges                            87.000000          3\n",
      "Industrial Manufacturing                   86.750000          4\n",
      "Consumer Product Rental                    86.666667          3\n",
      "Beauty & Personal Accessories Stores       85.500000          1\n",
      "Sporting Goods Stores                      85.000000          2\n",
      "Financial Transaction Processing           83.790000          4\n",
      "Lending                                    83.000000          8\n",
      "Federal Agencies                           80.509091         11\n",
      "Farm Support Services                      80.500000          1\n",
      "Energy                                     80.464286         14\n",
      "Education Training Services                79.500000          3\n",
      "Trucking                                   79.000000          1\n",
      "Religious Organizations                    78.833333          6\n",
      "Research & Development                     78.394737         19\n",
      "Health Care Services & Hospitals           77.243265         49\n",
      "Health Care Products Manufacturing         73.000000          1\n",
      "Banks & Credit Unions                      70.625000         12\n",
      "Travel Agencies                            69.500000          8\n",
      "Construction                               55.120000          3\n",
      "Food & Beverage Manufacturing              53.250000          8\n",
      "Architectural & Engineering Services       50.500000          4\n",
      "Gambling                                   48.500000          4\n",
      "Social Assistance                          48.166667          3\n",
      "Telecommunications Manufacturing           44.000000          2\n",
      "                                          mean      count\n",
      "                                    avg_salary avg_salary\n",
      "Sector                                                   \n",
      "Media                               116.666667          6\n",
      "-1                                  114.650000         10\n",
      "Accounting & Legal                  113.500000          1\n",
      "Information Technology              113.191667        180\n",
      "Biotech & Pharmaceuticals           112.124643        112\n",
      "Insurance                           105.942029         69\n",
      "Real Estate                         104.750000          8\n",
      "Mining & Metals                     104.000000          3\n",
      "Telecommunications                  102.333333          6\n",
      "Education                           100.739130         23\n",
      "Consumer Services                    99.875000          4\n",
      "Retail                               99.666667         15\n",
      "Transportation & Logistics           99.312500          8\n",
      "Aerospace & Defense                  99.060000         25\n",
      "Finance                              98.063333         42\n",
      "Business Services                    97.701031         97\n",
      "Manufacturing                        84.044118         34\n",
      "Government                           80.509091         11\n",
      "Agriculture & Forestry               80.500000          1\n",
      "Oil, Gas, Energy & Utilities         80.464286         14\n",
      "Health Care                          77.243265         49\n",
      "Travel & Tourism                     69.500000          8\n",
      "Non-Profit                           68.611111          9\n",
      "Construction, Repair & Maintenance   55.120000          3\n",
      "Arts, Entertainment & Recreation     48.500000          4\n",
      "                                        mean      count\n",
      "                                  avg_salary avg_salary\n",
      "Revenue                                                \n",
      "$5 to $10 million (USD)           126.111111         18\n",
      "$1 to $5 million (USD)            119.312500          8\n",
      "-1                                117.500000          1\n",
      "$10+ billion (USD)                115.600806        124\n",
      "Less than $1 million (USD)        108.625000          4\n",
      "Unknown / Non-Applicable          105.057833        203\n",
      "$1 to $2 billion (USD)            104.533333         60\n",
      "$50 to $100 million (USD)         102.584348         46\n",
      "$10 to $25 million (USD)          101.608125         32\n",
      "$2 to $5 billion (USD)             95.478462         39\n",
      "$5 to $10 billion (USD)            94.184211         19\n",
      "$500 million to $1 billion (USD)   86.991228         57\n",
      "$100 to $500 million (USD)         86.233626         91\n",
      "$25 to $50 million (USD)           82.837500         40\n",
      "                 mean      count\n",
      "           avg_salary avg_salary\n",
      "job_state                       \n",
      "CA         123.513158        152\n",
      "IL         116.662500         40\n",
      "DC         110.181818         11\n",
      "MA         107.503107        103\n",
      "NJ         104.558824         17\n",
      "MI         100.250000          6\n",
      "RI         100.000000          1\n",
      "NY          98.652778         72\n",
      "NC          98.452381         21\n",
      "MD          97.357143         35\n",
      "KY          97.000000          6\n",
      "VA          95.621951         41\n",
      "UT          94.150000         10\n",
      "PA          93.902424         33\n",
      "WA          93.190476         21\n",
      "TX          92.710000         28\n",
      "OR          92.125000          4\n",
      "IN          90.300000         10\n",
      "TN          89.358462         13\n",
      "OH          87.571429         14\n",
      "KS          87.000000          3\n",
      "CO          86.323636         11\n",
      "AZ          85.666667          9\n",
      "MN          85.500000          2\n",
      "MO          84.722222          9\n",
      "GA          80.666667          6\n",
      "IA          78.900000          5\n",
      "FL          77.625000         16\n",
      "NM          74.333333          3\n",
      "WI          73.300000         10\n",
      "CT          71.100000          5\n",
      "SC          60.500000          1\n",
      "AL          57.937500          8\n",
      "LA          57.650000          4\n",
      "DE          57.200000          6\n",
      "ID          56.250000          2\n",
      "NE          54.500000          4\n",
      "                   mean      count\n",
      "             avg_salary avg_salary\n",
      "age_company                       \n",
      " 94          179.500000          1\n",
      " 12          156.000000          6\n",
      " 109         153.600000         10\n",
      " 51          147.166667          3\n",
      " 59          139.000000          2\n",
      " 31          133.000000          3\n",
      " 240         132.285714         14\n",
      " 79          130.000000          1\n",
      " 39          129.777778          9\n",
      " 277         128.000000          1\n",
      " 14          126.833333         18\n",
      " 46          125.000000          2\n",
      " 108         124.500000          9\n",
      " 158         123.000000          3\n",
      " 5           122.400000          5\n",
      " 172         121.142857          7\n",
      " 82          120.437500          8\n",
      " 70          120.000000          2\n",
      " 11          119.984375         32\n",
      " 10          118.815789         19\n",
      " 4           117.398333         12\n",
      " 209         116.500000          1\n",
      " 23          114.166667          3\n",
      " 13          113.305161         31\n",
      " 47          112.500000          2\n",
      " 107         110.500000          1\n",
      " 20          109.500000          3\n",
      " 33          109.500000          7\n",
      " 175         109.500000          2\n",
      " 45          108.482500          8\n",
      " 9           108.119048         21\n",
      " 143         107.500000          1\n",
      " 132         107.500000          1\n",
      " 37          106.944444         18\n",
      " 76          106.500000          1\n",
      " 8           106.466667         15\n",
      " 36          106.000000          1\n",
      " 136         104.833333          3\n",
      " 53          104.687500          8\n",
      " 78          104.000000          3\n",
      " 16          103.150000         10\n",
      " 22          102.500000         12\n",
      "-1           102.470000         50\n",
      " 54          101.800000          5\n",
      " 48          101.200000          5\n",
      " 15          100.812500         24\n",
      " 170         100.607143         14\n",
      " 26          100.250000          8\n",
      " 24           99.607143         14\n",
      " 69           99.500000          2\n",
      " 73           99.166667          6\n",
      " 43           99.000000          3\n",
      " 146          98.142857         14\n",
      " 161          98.000000          1\n",
      " 28           97.583333          6\n",
      " 106          96.125000          4\n",
      " 171          96.000000          1\n",
      " 63           95.750000         18\n",
      " 6            94.718750         16\n",
      " 134          94.500000          1\n",
      " 30           94.125000          4\n",
      " 7            94.000000         13\n",
      " 25           93.870370         27\n",
      " 17           92.250000          6\n",
      " 18           92.050000         10\n",
      " 151          92.000000          6\n",
      " 27           90.375000          4\n",
      " 169          89.700000          5\n",
      " 32           89.437500          8\n",
      " 40           87.500000          9\n",
      " 191          87.500000          4\n",
      " 67           87.000000          2\n",
      " 52           85.750000          8\n",
      " 56           83.708333         12\n",
      " 2            83.250000          2\n",
      " 29           82.500000          7\n",
      " 86           82.170000         10\n",
      " 50           81.500000          1\n",
      " 122          81.000000          1\n",
      " 21           80.966000         10\n",
      " 96           80.250000          4\n",
      " 60           76.500000          9\n",
      " 34           76.250000          2\n",
      " 99           74.666667          3\n",
      " 19           74.083333         18\n",
      " 74           67.666667          3\n",
      " 38           66.500000          2\n",
      " 41           66.000000          2\n",
      " 55           63.912000          5\n",
      " 165          62.500000          2\n",
      " 49           61.666667          3\n",
      " 93           61.000000          2\n",
      " 92           60.500000          1\n",
      " 84           59.500000          3\n",
      " 119          58.000000          1\n",
      " 57           54.000000          4\n",
      " 104          52.500000          1\n",
      " 138          50.000000          1\n",
      " 35           47.583333          6\n",
      " 44           45.297500          8\n",
      " 42           44.500000          1\n",
      " 91           41.600000          1\n",
      "                mean      count\n",
      "          avg_salary avg_salary\n",
      "sas_flag                       \n",
      "1         105.822989         87\n",
      "0         100.925038        655\n",
      "                  mean      count\n",
      "            avg_salary avg_salary\n",
      "spark_flag                       \n",
      "1           113.347305        167\n",
      "0            98.058261        575\n",
      "                   mean      count\n",
      "             avg_salary avg_salary\n",
      "python_flag                       \n",
      "1            112.653061        392\n",
      "0             89.007143        350\n",
      "                   mean      count\n",
      "             avg_salary avg_salary\n",
      "matlab_flag                       \n",
      "1            118.436364         55\n",
      "0            100.143377        687\n",
      "                       mean      count\n",
      "                 avg_salary avg_salary\n",
      "tensorflow_flag                       \n",
      "1                120.084507         71\n",
      "0                 99.532787        671\n",
      "                    mean      count\n",
      "              avg_salary avg_salary\n",
      "tableau_flag                       \n",
      "0             102.898721        594\n",
      "1              95.882838        148\n",
      "                mean      count\n",
      "          avg_salary avg_salary\n",
      "aws_flag                       \n",
      "1         113.087386        176\n",
      "0          97.895972        566\n",
      "                   mean      count\n",
      "             avg_salary avg_salary\n",
      "hadoop_flag                       \n",
      "1            110.729839        124\n",
      "0             99.647249        618\n",
      "              mean      count\n",
      "        avg_salary avg_salary\n",
      "r_flag                       \n",
      "0       101.582432        740\n",
      "1        70.750000          2\n",
      "                        mean      count\n",
      "                  avg_salary avg_salary\n",
      "job_simplified                         \n",
      "director          166.117647         17\n",
      "machine learning  118.655172         29\n",
      "data scientist    117.691450        269\n",
      "data engineer     104.133621        116\n",
      "manager            93.220000         25\n",
      "na                 80.344406        286\n"
     ]
    }
   ],
   "source": [
    "for col in df_for_piv.columns:\n",
    "    if col == 'avg_salary':\n",
    "        continue\n",
    "    else:\n",
    "        print(pd.pivot_table(df_for_piv, index = col, values=['avg_salary'], aggfunc=['mean', 'count']).sort_values([('mean', 'avg_salary')], ascending=[False]))"
   ]
  },
  {
   "cell_type": "code",
   "execution_count": 35,
   "metadata": {},
   "outputs": [],
   "source": [
    "## TODO wordcloud for Job description to pick up on buzz words"
   ]
  },
  {
   "cell_type": "code",
   "execution_count": 36,
   "metadata": {},
   "outputs": [
    {
     "data": {
      "text/plain": [
       "array(['Job Title', 'Salary Estimate', 'Job Description', 'Rating',\n",
       "       'Company Name', 'Location', 'Headquarters', 'Size', 'Founded',\n",
       "       'Type of ownership', 'Industry', 'Sector', 'Revenue',\n",
       "       'Competitors', 'hourly flag', 'employer provided flag',\n",
       "       'company_txt', 'job_state', 'hq_state', 'job_in_HQ_flag',\n",
       "       'age_company', 'sas_flag', 'spark_flag', 'python_flag',\n",
       "       'matlab_flag', 'tensorflow_flag', 'tableau_flag', 'aws_flag',\n",
       "       'hadoop_flag', 'r_flag', 'job_simplified', 'seniority',\n",
       "       'job_desc_len', 'num_competitors', 'min_salary_updated',\n",
       "       'max_salary_updated', 'avg_salary'], dtype=object)"
      ]
     },
     "execution_count": 36,
     "metadata": {},
     "output_type": "execute_result"
    }
   ],
   "source": [
    "df.columns.values\n"
   ]
  },
  {
   "cell_type": "code",
   "execution_count": 37,
   "metadata": {},
   "outputs": [],
   "source": [
    "# Plotting categorical variable histograms\n"
   ]
  },
  {
   "cell_type": "markdown",
   "metadata": {},
   "source": [
    "Notes for variables to update:\n",
    "\n",
    "Need to standardize\n",
    "1. avg_salary\n",
    "2. age_company\n",
    "\n",
    "\n"
   ]
  }
 ],
 "metadata": {
  "kernelspec": {
   "display_name": "Python 3",
   "language": "python",
   "name": "python3"
  },
  "language_info": {
   "codemirror_mode": {
    "name": "ipython",
    "version": 3
   },
   "file_extension": ".py",
   "mimetype": "text/x-python",
   "name": "python",
   "nbconvert_exporter": "python",
   "pygments_lexer": "ipython3",
   "version": "3.8.5"
  }
 },
 "nbformat": 4,
 "nbformat_minor": 4
}
