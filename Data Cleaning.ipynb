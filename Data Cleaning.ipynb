{
 "cells": [
  {
   "cell_type": "markdown",
   "metadata": {},
   "source": [
    "# Cleaning scrapped data"
   ]
  },
  {
   "cell_type": "markdown",
   "metadata": {},
   "source": [
    "## Libraries"
   ]
  },
  {
   "cell_type": "code",
   "execution_count": 1,
   "metadata": {},
   "outputs": [],
   "source": [
    "import pandas as pd\n",
    "import numpy as np"
   ]
  },
  {
   "cell_type": "markdown",
   "metadata": {},
   "source": [
    "## Processing"
   ]
  },
  {
   "cell_type": "code",
   "execution_count": 2,
   "metadata": {
    "scrolled": true
   },
   "outputs": [],
   "source": [
    "df = pd.read_csv('glassdoor_jobs.csv',header = 0, index_col=0)"
   ]
  },
  {
   "cell_type": "code",
   "execution_count": 3,
   "metadata": {},
   "outputs": [],
   "source": [
    "# Format corrections\n",
    "\n",
    "df['Company Name'] = df['Company Name'].astype('string')"
   ]
  },
  {
   "cell_type": "markdown",
   "metadata": {},
   "source": [
    "### Comments on dataset\n",
    "1. Parse salary \n",
    "2. Company name text only\n",
    "3. extract state\n",
    "4. Age of company\n",
    "5. Parse job description (e.g. Language required,ect.) "
   ]
  },
  {
   "cell_type": "code",
   "execution_count": 4,
   "metadata": {},
   "outputs": [],
   "source": [
    "# Marking the entries where per hour estimate is provided\n",
    "\n",
    "df['hourly flag'] = df['Salary Estimate'].apply(lambda x: 1 if 'hour' in x.lower() else 0)"
   ]
  },
  {
   "cell_type": "code",
   "execution_count": 5,
   "metadata": {},
   "outputs": [],
   "source": [
    "# Marking entries where Employer provided estaimte is available\n",
    "\n",
    "df['employer provided flag'] = df['Salary Estimate'].apply(lambda x: 1 if 'employer' in x.lower() else 0)"
   ]
  },
  {
   "cell_type": "code",
   "execution_count": 6,
   "metadata": {},
   "outputs": [],
   "source": [
    "# Remove the entries with salary not found\n",
    "\n",
    "df = df[df['Salary Estimate'] != '-1']"
   ]
  },
  {
   "cell_type": "markdown",
   "metadata": {},
   "source": [
    "Add Min and Max ranges of salary to the dataframe"
   ]
  },
  {
   "cell_type": "code",
   "execution_count": 7,
   "metadata": {},
   "outputs": [],
   "source": [
    "salary = df['Salary Estimate'].apply(lambda x: x.split(\"(\")[0])\n",
    "\n",
    "# Split will return all the splits created in the string based on delimiter provided. \n",
    "# Since we only need the salary, we pick the first split element from the output array in lambda function\n",
    "\n",
    "# Replace $ and K in salary to get numeric range\n",
    "\n",
    "salary = salary.apply(lambda x: x.replace(\"K\",\"\").replace(\"$\",\"\"))\n",
    "\n",
    "salary = salary.apply(lambda x: x.lower().replace(\"per hour\",\"\").replace(\"employer provided salary:\",\"\"))\n",
    "\n",
    "# Put range of salary in dataframe\n",
    "\n",
    "\n",
    "df['min_salary'] = salary.apply(lambda x: x.split(\"-\")[0]).astype('int16')\n",
    "df['max_salary'] = salary.apply(lambda x: x.split(\"-\")[1]).astype('int16')"
   ]
  },
  {
   "cell_type": "code",
   "execution_count": 8,
   "metadata": {},
   "outputs": [
    {
     "data": {
      "text/html": [
       "<div>\n",
       "<style scoped>\n",
       "    .dataframe tbody tr th:only-of-type {\n",
       "        vertical-align: middle;\n",
       "    }\n",
       "\n",
       "    .dataframe tbody tr th {\n",
       "        vertical-align: top;\n",
       "    }\n",
       "\n",
       "    .dataframe thead th {\n",
       "        text-align: right;\n",
       "    }\n",
       "</style>\n",
       "<table border=\"1\" class=\"dataframe\">\n",
       "  <thead>\n",
       "    <tr style=\"text-align: right;\">\n",
       "      <th></th>\n",
       "      <th>min_salary</th>\n",
       "      <th>max_salary</th>\n",
       "      <th>Company Name</th>\n",
       "    </tr>\n",
       "  </thead>\n",
       "  <tbody>\n",
       "  </tbody>\n",
       "</table>\n",
       "</div>"
      ],
      "text/plain": [
       "Empty DataFrame\n",
       "Columns: [min_salary, max_salary, Company Name]\n",
       "Index: []"
      ]
     },
     "metadata": {},
     "output_type": "display_data"
    }
   ],
   "source": [
    "display(df.loc[df['min_salary'] < 0, ['min_salary','max_salary','Company Name']])"
   ]
  },
  {
   "cell_type": "markdown",
   "metadata": {},
   "source": [
    "Company name contains the rating for the company if available. We need to parse to retain just names"
   ]
  },
  {
   "cell_type": "code",
   "execution_count": 9,
   "metadata": {},
   "outputs": [],
   "source": [
    "df.loc[df['Rating']<0,'company_txt'] = df['Company Name']\n",
    "\n",
    "df.loc[df['Rating']>=0,'company_txt'] = df['Company Name'].apply(lambda x: x[:-4])\n",
    "\n",
    "#display(df)"
   ]
  },
  {
   "cell_type": "code",
   "execution_count": 10,
   "metadata": {},
   "outputs": [],
   "source": [
    "# Extract state from location\n",
    "\n",
    "df['job_state'] = df['Location'].apply(lambda x: x.split(\",\")[1] if x != \"-1\" else \"-1\")\n",
    "df['hq_state'] = df['Headquarters'].apply(lambda x: x.split(\",\")[1] if x != \"-1\" else \"-1\")\n",
    "#display(df)\n",
    "\n",
    "# Make flag for if job is in HQ location\n",
    "df['job_in_HQ_flag'] = df['job_state'] == df['hq_state']"
   ]
  },
  {
   "cell_type": "code",
   "execution_count": 11,
   "metadata": {},
   "outputs": [],
   "source": [
    "# Derive age of company based on current date\n",
    "\n",
    "today_year = 2021\n",
    "\n",
    "df['age_company'] = df['Founded'].apply(lambda x: today_year - x if x >=0 else x)"
   ]
  },
  {
   "cell_type": "markdown",
   "metadata": {},
   "source": [
    "Extract the tool requirement from job descriptions in data\n",
    "\n",
    "Based on quick search, we find that below are top tools used in industry. We createflags for these\n",
    "\n",
    "1. SAS\n",
    "2. Spark\n",
    "3. Python\n",
    "4. Matlab\n",
    "5. Tensorflow\n",
    "6. R - hard to create a flag for this. Maybe find Caps \"R\" in JD\n",
    "7. Tableu"
   ]
  },
  {
   "cell_type": "code",
   "execution_count": 12,
   "metadata": {},
   "outputs": [],
   "source": [
    "# We process R flag seperately\n",
    "skill_array = ['SAS','Spark','Python','Matlab','Tensorflow','Tableau','AWS','hadoop']\n",
    "\n",
    "for skill in skill_array:\n",
    "    skill = skill.lower()\n",
    "    df[f\"{skill}_flag\"] = df['Job Description'].apply(lambda x: 1 if skill in x.lower() else 0)\n",
    "\n",
    "df[\"r_flag\"] = df['Job Description'].apply(lambda x: 1 if ('r-studio' in x.lower() or 'r studio' in x.lower()) else 0)\n"
   ]
  },
  {
   "cell_type": "code",
   "execution_count": 13,
   "metadata": {},
   "outputs": [],
   "source": [
    "#display(df)\n",
    "\n",
    "# Save progress to csv file\n",
    "# Can also use pickle to save session for fast load and to prevent losing formatting\n",
    "\n",
    "df.to_pickle('./cleaned_jobs.pk1')"
   ]
  }
 ],
 "metadata": {
  "kernelspec": {
   "display_name": "Python 3",
   "language": "python",
   "name": "python3"
  },
  "language_info": {
   "codemirror_mode": {
    "name": "ipython",
    "version": 3
   },
   "file_extension": ".py",
   "mimetype": "text/x-python",
   "name": "python",
   "nbconvert_exporter": "python",
   "pygments_lexer": "ipython3",
   "version": "3.8.5"
  }
 },
 "nbformat": 4,
 "nbformat_minor": 4
}
